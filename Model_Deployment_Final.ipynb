{
  "nbformat": 4,
  "nbformat_minor": 0,
  "metadata": {
    "colab": {
      "provenance": []
    },
    "kernelspec": {
      "name": "python3",
      "display_name": "Python 3"
    },
    "language_info": {
      "name": "python"
    }
  },
  "cells": [
    {
      "cell_type": "markdown",
      "source": [
        "We will download data from redfin on houses in the area for sale.\n",
        "We will then perform pre-processing then predict the sales prices for these houses, and compare them to their listed price"
      ],
      "metadata": {
        "id": "q19DR-AWqyn8"
      }
    },
    {
      "cell_type": "code",
      "source": [
        "!pip install osmnx"
      ],
      "metadata": {
        "colab": {
          "base_uri": "https://localhost:8080/"
        },
        "id": "t5xbMnTJrdjO",
        "outputId": "eb666192-79c7-48ff-e6b9-d01a5d8c9823"
      },
      "execution_count": 3,
      "outputs": [
        {
          "output_type": "stream",
          "name": "stdout",
          "text": [
            "Collecting osmnx\n",
            "  Downloading osmnx-1.9.4-py3-none-any.whl.metadata (4.9 kB)\n",
            "Requirement already satisfied: geopandas<0.15,>=0.12 in /usr/local/lib/python3.10/dist-packages (from osmnx) (0.14.4)\n",
            "Requirement already satisfied: networkx<3.4,>=2.5 in /usr/local/lib/python3.10/dist-packages (from osmnx) (3.3)\n",
            "Requirement already satisfied: numpy<1.27,>=1.20 in /usr/local/lib/python3.10/dist-packages (from osmnx) (1.26.4)\n",
            "Requirement already satisfied: pandas<2.3,>=1.1 in /usr/local/lib/python3.10/dist-packages (from osmnx) (2.1.4)\n",
            "Requirement already satisfied: requests<2.33,>=2.27 in /usr/local/lib/python3.10/dist-packages (from osmnx) (2.31.0)\n",
            "Requirement already satisfied: shapely<2.1,>=2.0 in /usr/local/lib/python3.10/dist-packages (from osmnx) (2.0.5)\n",
            "Requirement already satisfied: fiona>=1.8.21 in /usr/local/lib/python3.10/dist-packages (from geopandas<0.15,>=0.12->osmnx) (1.9.6)\n",
            "Requirement already satisfied: packaging in /usr/local/lib/python3.10/dist-packages (from geopandas<0.15,>=0.12->osmnx) (24.1)\n",
            "Requirement already satisfied: pyproj>=3.3.0 in /usr/local/lib/python3.10/dist-packages (from geopandas<0.15,>=0.12->osmnx) (3.6.1)\n",
            "Requirement already satisfied: python-dateutil>=2.8.2 in /usr/local/lib/python3.10/dist-packages (from pandas<2.3,>=1.1->osmnx) (2.8.2)\n",
            "Requirement already satisfied: pytz>=2020.1 in /usr/local/lib/python3.10/dist-packages (from pandas<2.3,>=1.1->osmnx) (2024.1)\n",
            "Requirement already satisfied: tzdata>=2022.1 in /usr/local/lib/python3.10/dist-packages (from pandas<2.3,>=1.1->osmnx) (2024.1)\n",
            "Requirement already satisfied: charset-normalizer<4,>=2 in /usr/local/lib/python3.10/dist-packages (from requests<2.33,>=2.27->osmnx) (3.3.2)\n",
            "Requirement already satisfied: idna<4,>=2.5 in /usr/local/lib/python3.10/dist-packages (from requests<2.33,>=2.27->osmnx) (3.7)\n",
            "Requirement already satisfied: urllib3<3,>=1.21.1 in /usr/local/lib/python3.10/dist-packages (from requests<2.33,>=2.27->osmnx) (2.0.7)\n",
            "Requirement already satisfied: certifi>=2017.4.17 in /usr/local/lib/python3.10/dist-packages (from requests<2.33,>=2.27->osmnx) (2024.7.4)\n",
            "Requirement already satisfied: attrs>=19.2.0 in /usr/local/lib/python3.10/dist-packages (from fiona>=1.8.21->geopandas<0.15,>=0.12->osmnx) (23.2.0)\n",
            "Requirement already satisfied: click~=8.0 in /usr/local/lib/python3.10/dist-packages (from fiona>=1.8.21->geopandas<0.15,>=0.12->osmnx) (8.1.7)\n",
            "Requirement already satisfied: click-plugins>=1.0 in /usr/local/lib/python3.10/dist-packages (from fiona>=1.8.21->geopandas<0.15,>=0.12->osmnx) (1.1.1)\n",
            "Requirement already satisfied: cligj>=0.5 in /usr/local/lib/python3.10/dist-packages (from fiona>=1.8.21->geopandas<0.15,>=0.12->osmnx) (0.7.2)\n",
            "Requirement already satisfied: six in /usr/local/lib/python3.10/dist-packages (from fiona>=1.8.21->geopandas<0.15,>=0.12->osmnx) (1.16.0)\n",
            "Downloading osmnx-1.9.4-py3-none-any.whl (107 kB)\n",
            "\u001b[2K   \u001b[90m━━━━━━━━━━━━━━━━━━━━━━━━━━━━━━━━━━━━━━━━\u001b[0m \u001b[32m107.5/107.5 kB\u001b[0m \u001b[31m2.5 MB/s\u001b[0m eta \u001b[36m0:00:00\u001b[0m\n",
            "\u001b[?25hInstalling collected packages: osmnx\n",
            "Successfully installed osmnx-1.9.4\n"
          ]
        }
      ]
    },
    {
      "cell_type": "code",
      "source": [
        "import pandas as pd\n",
        "import numpy as np\n",
        "import seaborn as sns\n",
        "import matplotlib.pyplot as plt\n",
        "from sklearn.preprocessing import RobustScaler\n",
        "from sklearn.model_selection import train_test_split\n",
        "from sklearn.linear_model import LinearRegression\n",
        "from sklearn.metrics import mean_squared_error, r2_score\n",
        "import statsmodels.api as sm\n",
        "from xgboost import XGBRegressor\n",
        "from sklearn.model_selection import RandomizedSearchCV\n",
        "from sklearn.ensemble import RandomForestRegressor\n",
        "from scipy.stats import randint\n",
        "from sklearn.model_selection import cross_val_score\n",
        "import osmnx as ox\n",
        "import networkx as nx\n",
        "import geopandas\n",
        "import folium\n",
        "import numpy as np\n",
        "from pyproj import Geod\n",
        "from shapely.geometry import Polygon, MultiPolygon, Point, LineString\n",
        "from shapely.ops import nearest_points\n",
        "import warnings\n",
        "import pickle"
      ],
      "metadata": {
        "colab": {
          "base_uri": "https://localhost:8080/"
        },
        "id": "SaUEYJmgrYIg",
        "outputId": "50393072-4f74-444a-a433-801d7c8c79ba"
      },
      "execution_count": 74,
      "outputs": [
        {
          "output_type": "stream",
          "name": "stderr",
          "text": [
            "/usr/local/lib/python3.10/dist-packages/ipykernel/ipkernel.py:283: DeprecationWarning: `should_run_async` will not call `transform_cell` automatically in the future. Please pass the result to `transformed_cell` argument and any exception that happen during thetransform in `preprocessing_exc_tuple` in IPython 7.17 and above.\n",
            "  and should_run_async(code)\n"
          ]
        }
      ]
    },
    {
      "cell_type": "code",
      "source": [
        "warnings.filterwarnings('ignore')"
      ],
      "metadata": {
        "id": "1u7bPKw7rYyE"
      },
      "execution_count": 122,
      "outputs": []
    },
    {
      "cell_type": "code",
      "source": [
        "places = [\"Washington, DC, USA\", \"Arlington, Virginia, USA\", \"Alexandria, Virginia, USA\"] #Our places of interest. This cell has about a 3m runtime\n",
        "graphs = [ox.graph_from_place(place, network_type='walk') for place in places]\n",
        "G_combined = nx.compose_all(graphs)"
      ],
      "metadata": {
        "id": "EdoEz76Src2o"
      },
      "execution_count": 6,
      "outputs": []
    },
    {
      "cell_type": "code",
      "source": [
        "url = 'https://raw.githubusercontent.com/cbarnes5/DATA606CapstoneProject/main/redfin_2024-07-29-11-03-05.csv'\n",
        "df = pd.read_csv(url, index_col = 0)"
      ],
      "metadata": {
        "id": "JNMq2uoXqzu0"
      },
      "execution_count": 134,
      "outputs": []
    },
    {
      "cell_type": "code",
      "source": [
        "#remove duplicate rows\n",
        "df['duplicates']=df.duplicated()\n",
        "df=df[df['duplicates']==False]\n",
        "\n",
        "#reset index\n",
        "df.reset_index(inplace=True)\n",
        "\n",
        "#Fill N/A HOA columns to 0\n",
        "df['HOA/MONTH'].fillna(0, inplace=True)\n",
        "\n",
        "#remove parking lots and vacant land\n",
        "df=df[df['PROPERTY TYPE'].isin(['Multi-Family (2-4 Unit)', 'Condo/Co-op', 'Townhouse', 'Single Family Residential'])]"
      ],
      "metadata": {
        "id": "OEUhzACCqzyF"
      },
      "execution_count": 135,
      "outputs": []
    },
    {
      "cell_type": "code",
      "source": [
        "df=df[['SOLD DATE', 'PROPERTY TYPE', 'ADDRESS', 'CITY', 'STATE OR PROVINCE', 'ZIP OR POSTAL CODE', 'PRICE', 'BEDS', 'BATHS', 'LOCATION', 'SQUARE FEET', 'LOT SIZE', 'YEAR BUILT', 'HOA/MONTH', 'LATITUDE', 'LONGITUDE']]\n",
        "df=df[df['PROPERTY TYPE'].isin(['Condo/Co-op', 'Townhouse', 'Single Family Residential']) & df['CITY'].isin(['Washington', 'Arlington', 'Alexandria'])]"
      ],
      "metadata": {
        "id": "F73vrPZzsYoA"
      },
      "execution_count": 136,
      "outputs": []
    },
    {
      "cell_type": "code",
      "source": [
        "df"
      ],
      "metadata": {
        "colab": {
          "base_uri": "https://localhost:8080/",
          "height": 444
        },
        "id": "My_ahu2isuUo",
        "outputId": "9b9abe11-d812-4731-b16f-291abbc594e1"
      },
      "execution_count": 137,
      "outputs": [
        {
          "output_type": "execute_result",
          "data": {
            "text/plain": [
              "     SOLD DATE              PROPERTY TYPE                   ADDRESS  \\\n",
              "1          NaN                  Townhouse          649 Morton St NW   \n",
              "2          NaN  Single Family Residential            5886 14th St N   \n",
              "3          NaN                  Townhouse         1637 Irving St NW   \n",
              "4          NaN                Condo/Co-op  520 John Carlyle St #219   \n",
              "5          NaN  Single Family Residential             5628 Gary Ave   \n",
              "..         ...                        ...                       ...   \n",
              "346        NaN                  Townhouse    2817-A S Woodrow St #1   \n",
              "347        NaN                  Townhouse      545 S Saint Asaph St   \n",
              "348        NaN                Condo/Co-op  4550 Strutfield Ln #2223   \n",
              "349        NaN  Single Family Residential           410 Aspen St NW   \n",
              "350        NaN                  Townhouse          714 Barnes St NE   \n",
              "\n",
              "           CITY STATE OR PROVINCE  ZIP OR POSTAL CODE      PRICE  BEDS  BATHS  \\\n",
              "1    Washington                DC             20010.0   625000.0   2.0    1.5   \n",
              "2     Arlington                VA             22205.0  1299000.0   5.0    3.5   \n",
              "3    Washington                DC             20010.0  1245000.0   4.0    2.0   \n",
              "4    Alexandria                VA             22314.0   445000.0   1.0    1.0   \n",
              "5    Alexandria                VA             22311.0   799000.0   4.0    1.5   \n",
              "..          ...               ...                 ...        ...   ...    ...   \n",
              "346   Arlington                VA             22206.0   675000.0   3.0    2.0   \n",
              "347  Alexandria                VA             22314.0   985000.0   3.0    2.5   \n",
              "348  Alexandria                VA             22311.0   319000.0   1.0    1.0   \n",
              "349  Washington                DC             20012.0  1050000.0   5.0    3.0   \n",
              "350  Washington                DC             20019.0   525000.0   3.0    3.5   \n",
              "\n",
              "                   LOCATION  SQUARE FEET  LOT SIZE  YEAR BUILT  HOA/MONTH  \\\n",
              "1          Columbia Heights       1088.0    1388.0      1928.0        0.0   \n",
              "2                  WESTOVER       2313.0    7395.0      1939.0        0.0   \n",
              "3            Mount Pleasant       2486.0    2348.0      1917.0        0.0   \n",
              "4            CARLYLE SQUARE        760.0       NaN      2007.0      590.0   \n",
              "5            SHIRLEY FOREST       1862.0   10475.0      1959.0        0.0   \n",
              "..                      ...          ...       ...         ...        ...   \n",
              "346         COURTBRDGE I&II       2066.0       NaN      1982.0      581.0   \n",
              "347            TANNERY YARD       1260.0     748.0      1976.0      100.0   \n",
              "348  PALAZZO AT PARK CENTER        818.0       NaN      2000.0      479.0   \n",
              "349              Brightwood       2224.0    8250.0      1913.0        0.0   \n",
              "350              Lily Ponds       1924.0    1299.0      2014.0       80.0   \n",
              "\n",
              "      LATITUDE  LONGITUDE  \n",
              "1    38.932268 -77.022599  \n",
              "2    38.882172 -77.143247  \n",
              "3    38.928982 -77.038523  \n",
              "4    38.801935 -77.061552  \n",
              "5    38.835506 -77.126423  \n",
              "..         ...        ...  \n",
              "346  38.840766 -77.097163  \n",
              "347  38.799803 -77.047125  \n",
              "348  38.835587 -77.105740  \n",
              "349  38.972130 -77.019134  \n",
              "350  38.901578 -76.950422  \n",
              "\n",
              "[335 rows x 16 columns]"
            ],
            "text/html": [
              "\n",
              "  <div id=\"df-940d5bbc-ed01-4d48-807d-169fbdcb1698\" class=\"colab-df-container\">\n",
              "    <div>\n",
              "<style scoped>\n",
              "    .dataframe tbody tr th:only-of-type {\n",
              "        vertical-align: middle;\n",
              "    }\n",
              "\n",
              "    .dataframe tbody tr th {\n",
              "        vertical-align: top;\n",
              "    }\n",
              "\n",
              "    .dataframe thead th {\n",
              "        text-align: right;\n",
              "    }\n",
              "</style>\n",
              "<table border=\"1\" class=\"dataframe\">\n",
              "  <thead>\n",
              "    <tr style=\"text-align: right;\">\n",
              "      <th></th>\n",
              "      <th>SOLD DATE</th>\n",
              "      <th>PROPERTY TYPE</th>\n",
              "      <th>ADDRESS</th>\n",
              "      <th>CITY</th>\n",
              "      <th>STATE OR PROVINCE</th>\n",
              "      <th>ZIP OR POSTAL CODE</th>\n",
              "      <th>PRICE</th>\n",
              "      <th>BEDS</th>\n",
              "      <th>BATHS</th>\n",
              "      <th>LOCATION</th>\n",
              "      <th>SQUARE FEET</th>\n",
              "      <th>LOT SIZE</th>\n",
              "      <th>YEAR BUILT</th>\n",
              "      <th>HOA/MONTH</th>\n",
              "      <th>LATITUDE</th>\n",
              "      <th>LONGITUDE</th>\n",
              "    </tr>\n",
              "  </thead>\n",
              "  <tbody>\n",
              "    <tr>\n",
              "      <th>1</th>\n",
              "      <td>NaN</td>\n",
              "      <td>Townhouse</td>\n",
              "      <td>649 Morton St NW</td>\n",
              "      <td>Washington</td>\n",
              "      <td>DC</td>\n",
              "      <td>20010.0</td>\n",
              "      <td>625000.0</td>\n",
              "      <td>2.0</td>\n",
              "      <td>1.5</td>\n",
              "      <td>Columbia Heights</td>\n",
              "      <td>1088.0</td>\n",
              "      <td>1388.0</td>\n",
              "      <td>1928.0</td>\n",
              "      <td>0.0</td>\n",
              "      <td>38.932268</td>\n",
              "      <td>-77.022599</td>\n",
              "    </tr>\n",
              "    <tr>\n",
              "      <th>2</th>\n",
              "      <td>NaN</td>\n",
              "      <td>Single Family Residential</td>\n",
              "      <td>5886 14th St N</td>\n",
              "      <td>Arlington</td>\n",
              "      <td>VA</td>\n",
              "      <td>22205.0</td>\n",
              "      <td>1299000.0</td>\n",
              "      <td>5.0</td>\n",
              "      <td>3.5</td>\n",
              "      <td>WESTOVER</td>\n",
              "      <td>2313.0</td>\n",
              "      <td>7395.0</td>\n",
              "      <td>1939.0</td>\n",
              "      <td>0.0</td>\n",
              "      <td>38.882172</td>\n",
              "      <td>-77.143247</td>\n",
              "    </tr>\n",
              "    <tr>\n",
              "      <th>3</th>\n",
              "      <td>NaN</td>\n",
              "      <td>Townhouse</td>\n",
              "      <td>1637 Irving St NW</td>\n",
              "      <td>Washington</td>\n",
              "      <td>DC</td>\n",
              "      <td>20010.0</td>\n",
              "      <td>1245000.0</td>\n",
              "      <td>4.0</td>\n",
              "      <td>2.0</td>\n",
              "      <td>Mount Pleasant</td>\n",
              "      <td>2486.0</td>\n",
              "      <td>2348.0</td>\n",
              "      <td>1917.0</td>\n",
              "      <td>0.0</td>\n",
              "      <td>38.928982</td>\n",
              "      <td>-77.038523</td>\n",
              "    </tr>\n",
              "    <tr>\n",
              "      <th>4</th>\n",
              "      <td>NaN</td>\n",
              "      <td>Condo/Co-op</td>\n",
              "      <td>520 John Carlyle St #219</td>\n",
              "      <td>Alexandria</td>\n",
              "      <td>VA</td>\n",
              "      <td>22314.0</td>\n",
              "      <td>445000.0</td>\n",
              "      <td>1.0</td>\n",
              "      <td>1.0</td>\n",
              "      <td>CARLYLE SQUARE</td>\n",
              "      <td>760.0</td>\n",
              "      <td>NaN</td>\n",
              "      <td>2007.0</td>\n",
              "      <td>590.0</td>\n",
              "      <td>38.801935</td>\n",
              "      <td>-77.061552</td>\n",
              "    </tr>\n",
              "    <tr>\n",
              "      <th>5</th>\n",
              "      <td>NaN</td>\n",
              "      <td>Single Family Residential</td>\n",
              "      <td>5628 Gary Ave</td>\n",
              "      <td>Alexandria</td>\n",
              "      <td>VA</td>\n",
              "      <td>22311.0</td>\n",
              "      <td>799000.0</td>\n",
              "      <td>4.0</td>\n",
              "      <td>1.5</td>\n",
              "      <td>SHIRLEY FOREST</td>\n",
              "      <td>1862.0</td>\n",
              "      <td>10475.0</td>\n",
              "      <td>1959.0</td>\n",
              "      <td>0.0</td>\n",
              "      <td>38.835506</td>\n",
              "      <td>-77.126423</td>\n",
              "    </tr>\n",
              "    <tr>\n",
              "      <th>...</th>\n",
              "      <td>...</td>\n",
              "      <td>...</td>\n",
              "      <td>...</td>\n",
              "      <td>...</td>\n",
              "      <td>...</td>\n",
              "      <td>...</td>\n",
              "      <td>...</td>\n",
              "      <td>...</td>\n",
              "      <td>...</td>\n",
              "      <td>...</td>\n",
              "      <td>...</td>\n",
              "      <td>...</td>\n",
              "      <td>...</td>\n",
              "      <td>...</td>\n",
              "      <td>...</td>\n",
              "      <td>...</td>\n",
              "    </tr>\n",
              "    <tr>\n",
              "      <th>346</th>\n",
              "      <td>NaN</td>\n",
              "      <td>Townhouse</td>\n",
              "      <td>2817-A S Woodrow St #1</td>\n",
              "      <td>Arlington</td>\n",
              "      <td>VA</td>\n",
              "      <td>22206.0</td>\n",
              "      <td>675000.0</td>\n",
              "      <td>3.0</td>\n",
              "      <td>2.0</td>\n",
              "      <td>COURTBRDGE I&amp;II</td>\n",
              "      <td>2066.0</td>\n",
              "      <td>NaN</td>\n",
              "      <td>1982.0</td>\n",
              "      <td>581.0</td>\n",
              "      <td>38.840766</td>\n",
              "      <td>-77.097163</td>\n",
              "    </tr>\n",
              "    <tr>\n",
              "      <th>347</th>\n",
              "      <td>NaN</td>\n",
              "      <td>Townhouse</td>\n",
              "      <td>545 S Saint Asaph St</td>\n",
              "      <td>Alexandria</td>\n",
              "      <td>VA</td>\n",
              "      <td>22314.0</td>\n",
              "      <td>985000.0</td>\n",
              "      <td>3.0</td>\n",
              "      <td>2.5</td>\n",
              "      <td>TANNERY YARD</td>\n",
              "      <td>1260.0</td>\n",
              "      <td>748.0</td>\n",
              "      <td>1976.0</td>\n",
              "      <td>100.0</td>\n",
              "      <td>38.799803</td>\n",
              "      <td>-77.047125</td>\n",
              "    </tr>\n",
              "    <tr>\n",
              "      <th>348</th>\n",
              "      <td>NaN</td>\n",
              "      <td>Condo/Co-op</td>\n",
              "      <td>4550 Strutfield Ln #2223</td>\n",
              "      <td>Alexandria</td>\n",
              "      <td>VA</td>\n",
              "      <td>22311.0</td>\n",
              "      <td>319000.0</td>\n",
              "      <td>1.0</td>\n",
              "      <td>1.0</td>\n",
              "      <td>PALAZZO AT PARK CENTER</td>\n",
              "      <td>818.0</td>\n",
              "      <td>NaN</td>\n",
              "      <td>2000.0</td>\n",
              "      <td>479.0</td>\n",
              "      <td>38.835587</td>\n",
              "      <td>-77.105740</td>\n",
              "    </tr>\n",
              "    <tr>\n",
              "      <th>349</th>\n",
              "      <td>NaN</td>\n",
              "      <td>Single Family Residential</td>\n",
              "      <td>410 Aspen St NW</td>\n",
              "      <td>Washington</td>\n",
              "      <td>DC</td>\n",
              "      <td>20012.0</td>\n",
              "      <td>1050000.0</td>\n",
              "      <td>5.0</td>\n",
              "      <td>3.0</td>\n",
              "      <td>Brightwood</td>\n",
              "      <td>2224.0</td>\n",
              "      <td>8250.0</td>\n",
              "      <td>1913.0</td>\n",
              "      <td>0.0</td>\n",
              "      <td>38.972130</td>\n",
              "      <td>-77.019134</td>\n",
              "    </tr>\n",
              "    <tr>\n",
              "      <th>350</th>\n",
              "      <td>NaN</td>\n",
              "      <td>Townhouse</td>\n",
              "      <td>714 Barnes St NE</td>\n",
              "      <td>Washington</td>\n",
              "      <td>DC</td>\n",
              "      <td>20019.0</td>\n",
              "      <td>525000.0</td>\n",
              "      <td>3.0</td>\n",
              "      <td>3.5</td>\n",
              "      <td>Lily Ponds</td>\n",
              "      <td>1924.0</td>\n",
              "      <td>1299.0</td>\n",
              "      <td>2014.0</td>\n",
              "      <td>80.0</td>\n",
              "      <td>38.901578</td>\n",
              "      <td>-76.950422</td>\n",
              "    </tr>\n",
              "  </tbody>\n",
              "</table>\n",
              "<p>335 rows × 16 columns</p>\n",
              "</div>\n",
              "    <div class=\"colab-df-buttons\">\n",
              "\n",
              "  <div class=\"colab-df-container\">\n",
              "    <button class=\"colab-df-convert\" onclick=\"convertToInteractive('df-940d5bbc-ed01-4d48-807d-169fbdcb1698')\"\n",
              "            title=\"Convert this dataframe to an interactive table.\"\n",
              "            style=\"display:none;\">\n",
              "\n",
              "  <svg xmlns=\"http://www.w3.org/2000/svg\" height=\"24px\" viewBox=\"0 -960 960 960\">\n",
              "    <path d=\"M120-120v-720h720v720H120Zm60-500h600v-160H180v160Zm220 220h160v-160H400v160Zm0 220h160v-160H400v160ZM180-400h160v-160H180v160Zm440 0h160v-160H620v160ZM180-180h160v-160H180v160Zm440 0h160v-160H620v160Z\"/>\n",
              "  </svg>\n",
              "    </button>\n",
              "\n",
              "  <style>\n",
              "    .colab-df-container {\n",
              "      display:flex;\n",
              "      gap: 12px;\n",
              "    }\n",
              "\n",
              "    .colab-df-convert {\n",
              "      background-color: #E8F0FE;\n",
              "      border: none;\n",
              "      border-radius: 50%;\n",
              "      cursor: pointer;\n",
              "      display: none;\n",
              "      fill: #1967D2;\n",
              "      height: 32px;\n",
              "      padding: 0 0 0 0;\n",
              "      width: 32px;\n",
              "    }\n",
              "\n",
              "    .colab-df-convert:hover {\n",
              "      background-color: #E2EBFA;\n",
              "      box-shadow: 0px 1px 2px rgba(60, 64, 67, 0.3), 0px 1px 3px 1px rgba(60, 64, 67, 0.15);\n",
              "      fill: #174EA6;\n",
              "    }\n",
              "\n",
              "    .colab-df-buttons div {\n",
              "      margin-bottom: 4px;\n",
              "    }\n",
              "\n",
              "    [theme=dark] .colab-df-convert {\n",
              "      background-color: #3B4455;\n",
              "      fill: #D2E3FC;\n",
              "    }\n",
              "\n",
              "    [theme=dark] .colab-df-convert:hover {\n",
              "      background-color: #434B5C;\n",
              "      box-shadow: 0px 1px 3px 1px rgba(0, 0, 0, 0.15);\n",
              "      filter: drop-shadow(0px 1px 2px rgba(0, 0, 0, 0.3));\n",
              "      fill: #FFFFFF;\n",
              "    }\n",
              "  </style>\n",
              "\n",
              "    <script>\n",
              "      const buttonEl =\n",
              "        document.querySelector('#df-940d5bbc-ed01-4d48-807d-169fbdcb1698 button.colab-df-convert');\n",
              "      buttonEl.style.display =\n",
              "        google.colab.kernel.accessAllowed ? 'block' : 'none';\n",
              "\n",
              "      async function convertToInteractive(key) {\n",
              "        const element = document.querySelector('#df-940d5bbc-ed01-4d48-807d-169fbdcb1698');\n",
              "        const dataTable =\n",
              "          await google.colab.kernel.invokeFunction('convertToInteractive',\n",
              "                                                    [key], {});\n",
              "        if (!dataTable) return;\n",
              "\n",
              "        const docLinkHtml = 'Like what you see? Visit the ' +\n",
              "          '<a target=\"_blank\" href=https://colab.research.google.com/notebooks/data_table.ipynb>data table notebook</a>'\n",
              "          + ' to learn more about interactive tables.';\n",
              "        element.innerHTML = '';\n",
              "        dataTable['output_type'] = 'display_data';\n",
              "        await google.colab.output.renderOutput(dataTable, element);\n",
              "        const docLink = document.createElement('div');\n",
              "        docLink.innerHTML = docLinkHtml;\n",
              "        element.appendChild(docLink);\n",
              "      }\n",
              "    </script>\n",
              "  </div>\n",
              "\n",
              "\n",
              "<div id=\"df-1624c9f3-b276-423a-b695-415970a01771\">\n",
              "  <button class=\"colab-df-quickchart\" onclick=\"quickchart('df-1624c9f3-b276-423a-b695-415970a01771')\"\n",
              "            title=\"Suggest charts\"\n",
              "            style=\"display:none;\">\n",
              "\n",
              "<svg xmlns=\"http://www.w3.org/2000/svg\" height=\"24px\"viewBox=\"0 0 24 24\"\n",
              "     width=\"24px\">\n",
              "    <g>\n",
              "        <path d=\"M19 3H5c-1.1 0-2 .9-2 2v14c0 1.1.9 2 2 2h14c1.1 0 2-.9 2-2V5c0-1.1-.9-2-2-2zM9 17H7v-7h2v7zm4 0h-2V7h2v10zm4 0h-2v-4h2v4z\"/>\n",
              "    </g>\n",
              "</svg>\n",
              "  </button>\n",
              "\n",
              "<style>\n",
              "  .colab-df-quickchart {\n",
              "      --bg-color: #E8F0FE;\n",
              "      --fill-color: #1967D2;\n",
              "      --hover-bg-color: #E2EBFA;\n",
              "      --hover-fill-color: #174EA6;\n",
              "      --disabled-fill-color: #AAA;\n",
              "      --disabled-bg-color: #DDD;\n",
              "  }\n",
              "\n",
              "  [theme=dark] .colab-df-quickchart {\n",
              "      --bg-color: #3B4455;\n",
              "      --fill-color: #D2E3FC;\n",
              "      --hover-bg-color: #434B5C;\n",
              "      --hover-fill-color: #FFFFFF;\n",
              "      --disabled-bg-color: #3B4455;\n",
              "      --disabled-fill-color: #666;\n",
              "  }\n",
              "\n",
              "  .colab-df-quickchart {\n",
              "    background-color: var(--bg-color);\n",
              "    border: none;\n",
              "    border-radius: 50%;\n",
              "    cursor: pointer;\n",
              "    display: none;\n",
              "    fill: var(--fill-color);\n",
              "    height: 32px;\n",
              "    padding: 0;\n",
              "    width: 32px;\n",
              "  }\n",
              "\n",
              "  .colab-df-quickchart:hover {\n",
              "    background-color: var(--hover-bg-color);\n",
              "    box-shadow: 0 1px 2px rgba(60, 64, 67, 0.3), 0 1px 3px 1px rgba(60, 64, 67, 0.15);\n",
              "    fill: var(--button-hover-fill-color);\n",
              "  }\n",
              "\n",
              "  .colab-df-quickchart-complete:disabled,\n",
              "  .colab-df-quickchart-complete:disabled:hover {\n",
              "    background-color: var(--disabled-bg-color);\n",
              "    fill: var(--disabled-fill-color);\n",
              "    box-shadow: none;\n",
              "  }\n",
              "\n",
              "  .colab-df-spinner {\n",
              "    border: 2px solid var(--fill-color);\n",
              "    border-color: transparent;\n",
              "    border-bottom-color: var(--fill-color);\n",
              "    animation:\n",
              "      spin 1s steps(1) infinite;\n",
              "  }\n",
              "\n",
              "  @keyframes spin {\n",
              "    0% {\n",
              "      border-color: transparent;\n",
              "      border-bottom-color: var(--fill-color);\n",
              "      border-left-color: var(--fill-color);\n",
              "    }\n",
              "    20% {\n",
              "      border-color: transparent;\n",
              "      border-left-color: var(--fill-color);\n",
              "      border-top-color: var(--fill-color);\n",
              "    }\n",
              "    30% {\n",
              "      border-color: transparent;\n",
              "      border-left-color: var(--fill-color);\n",
              "      border-top-color: var(--fill-color);\n",
              "      border-right-color: var(--fill-color);\n",
              "    }\n",
              "    40% {\n",
              "      border-color: transparent;\n",
              "      border-right-color: var(--fill-color);\n",
              "      border-top-color: var(--fill-color);\n",
              "    }\n",
              "    60% {\n",
              "      border-color: transparent;\n",
              "      border-right-color: var(--fill-color);\n",
              "    }\n",
              "    80% {\n",
              "      border-color: transparent;\n",
              "      border-right-color: var(--fill-color);\n",
              "      border-bottom-color: var(--fill-color);\n",
              "    }\n",
              "    90% {\n",
              "      border-color: transparent;\n",
              "      border-bottom-color: var(--fill-color);\n",
              "    }\n",
              "  }\n",
              "</style>\n",
              "\n",
              "  <script>\n",
              "    async function quickchart(key) {\n",
              "      const quickchartButtonEl =\n",
              "        document.querySelector('#' + key + ' button');\n",
              "      quickchartButtonEl.disabled = true;  // To prevent multiple clicks.\n",
              "      quickchartButtonEl.classList.add('colab-df-spinner');\n",
              "      try {\n",
              "        const charts = await google.colab.kernel.invokeFunction(\n",
              "            'suggestCharts', [key], {});\n",
              "      } catch (error) {\n",
              "        console.error('Error during call to suggestCharts:', error);\n",
              "      }\n",
              "      quickchartButtonEl.classList.remove('colab-df-spinner');\n",
              "      quickchartButtonEl.classList.add('colab-df-quickchart-complete');\n",
              "    }\n",
              "    (() => {\n",
              "      let quickchartButtonEl =\n",
              "        document.querySelector('#df-1624c9f3-b276-423a-b695-415970a01771 button');\n",
              "      quickchartButtonEl.style.display =\n",
              "        google.colab.kernel.accessAllowed ? 'block' : 'none';\n",
              "    })();\n",
              "  </script>\n",
              "</div>\n",
              "\n",
              "  <div id=\"id_ea27b44a-49ff-4173-b330-8eaadf401d5a\">\n",
              "    <style>\n",
              "      .colab-df-generate {\n",
              "        background-color: #E8F0FE;\n",
              "        border: none;\n",
              "        border-radius: 50%;\n",
              "        cursor: pointer;\n",
              "        display: none;\n",
              "        fill: #1967D2;\n",
              "        height: 32px;\n",
              "        padding: 0 0 0 0;\n",
              "        width: 32px;\n",
              "      }\n",
              "\n",
              "      .colab-df-generate:hover {\n",
              "        background-color: #E2EBFA;\n",
              "        box-shadow: 0px 1px 2px rgba(60, 64, 67, 0.3), 0px 1px 3px 1px rgba(60, 64, 67, 0.15);\n",
              "        fill: #174EA6;\n",
              "      }\n",
              "\n",
              "      [theme=dark] .colab-df-generate {\n",
              "        background-color: #3B4455;\n",
              "        fill: #D2E3FC;\n",
              "      }\n",
              "\n",
              "      [theme=dark] .colab-df-generate:hover {\n",
              "        background-color: #434B5C;\n",
              "        box-shadow: 0px 1px 3px 1px rgba(0, 0, 0, 0.15);\n",
              "        filter: drop-shadow(0px 1px 2px rgba(0, 0, 0, 0.3));\n",
              "        fill: #FFFFFF;\n",
              "      }\n",
              "    </style>\n",
              "    <button class=\"colab-df-generate\" onclick=\"generateWithVariable('df')\"\n",
              "            title=\"Generate code using this dataframe.\"\n",
              "            style=\"display:none;\">\n",
              "\n",
              "  <svg xmlns=\"http://www.w3.org/2000/svg\" height=\"24px\"viewBox=\"0 0 24 24\"\n",
              "       width=\"24px\">\n",
              "    <path d=\"M7,19H8.4L18.45,9,17,7.55,7,17.6ZM5,21V16.75L18.45,3.32a2,2,0,0,1,2.83,0l1.4,1.43a1.91,1.91,0,0,1,.58,1.4,1.91,1.91,0,0,1-.58,1.4L9.25,21ZM18.45,9,17,7.55Zm-12,3A5.31,5.31,0,0,0,4.9,8.1,5.31,5.31,0,0,0,1,6.5,5.31,5.31,0,0,0,4.9,4.9,5.31,5.31,0,0,0,6.5,1,5.31,5.31,0,0,0,8.1,4.9,5.31,5.31,0,0,0,12,6.5,5.46,5.46,0,0,0,6.5,12Z\"/>\n",
              "  </svg>\n",
              "    </button>\n",
              "    <script>\n",
              "      (() => {\n",
              "      const buttonEl =\n",
              "        document.querySelector('#id_ea27b44a-49ff-4173-b330-8eaadf401d5a button.colab-df-generate');\n",
              "      buttonEl.style.display =\n",
              "        google.colab.kernel.accessAllowed ? 'block' : 'none';\n",
              "\n",
              "      buttonEl.onclick = () => {\n",
              "        google.colab.notebook.generateWithVariable('df');\n",
              "      }\n",
              "      })();\n",
              "    </script>\n",
              "  </div>\n",
              "\n",
              "    </div>\n",
              "  </div>\n"
            ],
            "application/vnd.google.colaboratory.intrinsic+json": {
              "type": "dataframe",
              "variable_name": "df",
              "summary": "{\n  \"name\": \"df\",\n  \"rows\": 335,\n  \"fields\": [\n    {\n      \"column\": \"SOLD DATE\",\n      \"properties\": {\n        \"dtype\": \"number\",\n        \"std\": null,\n        \"min\": null,\n        \"max\": null,\n        \"num_unique_values\": 0,\n        \"samples\": [],\n        \"semantic_type\": \"\",\n        \"description\": \"\"\n      }\n    },\n    {\n      \"column\": \"PROPERTY TYPE\",\n      \"properties\": {\n        \"dtype\": \"category\",\n        \"num_unique_values\": 3,\n        \"samples\": [],\n        \"semantic_type\": \"\",\n        \"description\": \"\"\n      }\n    },\n    {\n      \"column\": \"ADDRESS\",\n      \"properties\": {\n        \"dtype\": \"string\",\n        \"num_unique_values\": 334,\n        \"samples\": [],\n        \"semantic_type\": \"\",\n        \"description\": \"\"\n      }\n    },\n    {\n      \"column\": \"CITY\",\n      \"properties\": {\n        \"dtype\": \"category\",\n        \"num_unique_values\": 3,\n        \"samples\": [],\n        \"semantic_type\": \"\",\n        \"description\": \"\"\n      }\n    },\n    {\n      \"column\": \"STATE OR PROVINCE\",\n      \"properties\": {\n        \"dtype\": \"category\",\n        \"num_unique_values\": 2,\n        \"samples\": [],\n        \"semantic_type\": \"\",\n        \"description\": \"\"\n      }\n    },\n    {\n      \"column\": \"ZIP OR POSTAL CODE\",\n      \"properties\": {\n        \"dtype\": \"number\",\n        \"std\": 1049.2255612415652,\n        \"min\": 20001.0,\n        \"max\": 22314.0,\n        \"num_unique_values\": 37,\n        \"samples\": [],\n        \"semantic_type\": \"\",\n        \"description\": \"\"\n      }\n    },\n    {\n      \"column\": \"PRICE\",\n      \"properties\": {\n        \"dtype\": \"number\",\n        \"std\": 686906.1573679444,\n        \"min\": 14000.0,\n        \"max\": 6500000.0,\n        \"num_unique_values\": 223,\n        \"samples\": [],\n        \"semantic_type\": \"\",\n        \"description\": \"\"\n      }\n    },\n    {\n      \"column\": \"BEDS\",\n      \"properties\": {\n        \"dtype\": \"number\",\n        \"std\": 1.379633014732565,\n        \"min\": 0.0,\n        \"max\": 8.0,\n        \"num_unique_values\": 9,\n        \"samples\": [],\n        \"semantic_type\": \"\",\n        \"description\": \"\"\n      }\n    },\n    {\n      \"column\": \"BATHS\",\n      \"properties\": {\n        \"dtype\": \"number\",\n        \"std\": 1.1621604748863759,\n        \"min\": 1.0,\n        \"max\": 6.5,\n        \"num_unique_values\": 12,\n        \"samples\": [],\n        \"semantic_type\": \"\",\n        \"description\": \"\"\n      }\n    },\n    {\n      \"column\": \"LOCATION\",\n      \"properties\": {\n        \"dtype\": \"category\",\n        \"num_unique_values\": 147,\n        \"samples\": [],\n        \"semantic_type\": \"\",\n        \"description\": \"\"\n      }\n    },\n    {\n      \"column\": \"SQUARE FEET\",\n      \"properties\": {\n        \"dtype\": \"number\",\n        \"std\": 1105.3169784203028,\n        \"min\": 351.0,\n        \"max\": 8733.0,\n        \"num_unique_values\": 291,\n        \"samples\": [],\n        \"semantic_type\": \"\",\n        \"description\": \"\"\n      }\n    },\n    {\n      \"column\": \"LOT SIZE\",\n      \"properties\": {\n        \"dtype\": \"number\",\n        \"std\": 5903.974193413169,\n        \"min\": 693.0,\n        \"max\": 49005.0,\n        \"num_unique_values\": 135,\n        \"samples\": [],\n        \"semantic_type\": \"\",\n        \"description\": \"\"\n      }\n    },\n    {\n      \"column\": \"YEAR BUILT\",\n      \"properties\": {\n        \"dtype\": \"number\",\n        \"std\": 38.98818480774023,\n        \"min\": 1875.0,\n        \"max\": 2024.0,\n        \"num_unique_values\": 110,\n        \"samples\": [],\n        \"semantic_type\": \"\",\n        \"description\": \"\"\n      }\n    },\n    {\n      \"column\": \"HOA/MONTH\",\n      \"properties\": {\n        \"dtype\": \"number\",\n        \"std\": 435.0474756283334,\n        \"min\": 0.0,\n        \"max\": 3004.0,\n        \"num_unique_values\": 175,\n        \"samples\": [],\n        \"semantic_type\": \"\",\n        \"description\": \"\"\n      }\n    },\n    {\n      \"column\": \"LATITUDE\",\n      \"properties\": {\n        \"dtype\": \"number\",\n        \"std\": 0.04629604288655487,\n        \"min\": 38.7851355,\n        \"max\": 38.98283,\n        \"num_unique_values\": 308,\n        \"samples\": [],\n        \"semantic_type\": \"\",\n        \"description\": \"\"\n      }\n    },\n    {\n      \"column\": \"LONGITUDE\",\n      \"properties\": {\n        \"dtype\": \"number\",\n        \"std\": 0.05246535274864874,\n        \"min\": -77.1735671,\n        \"max\": -76.9184633,\n        \"num_unique_values\": 308,\n        \"samples\": [],\n        \"semantic_type\": \"\",\n        \"description\": \"\"\n      }\n    }\n  ]\n}"
            }
          },
          "metadata": {},
          "execution_count": 137
        }
      ]
    },
    {
      "cell_type": "code",
      "source": [
        "#Tags we're using\n",
        "greenspace_tags = {'leisure': ['park', 'garden', 'nature_reserve']}\n",
        "metro_tags = {'railway': 'subway_entrance'}\n",
        "#Optional tags\n",
        "school_tags = {'amenity': ['kindergarten', 'school', 'library']}\n",
        "college_tags = {'amenity': ['university', 'college', 'research_institute']}\n",
        "shop_tags = {'shop': ['department_store', 'mall']}\n",
        "tourism_tags = {'tourism': ['aquarium', 'artwork', 'attraction', 'gallery']}\n",
        "leisure_tags = {'leisure': ['disc_golf_course', 'dog_park', 'fishing', 'fitness_centre', 'horse_riding', 'ice_rink', 'miniature_golf', 'pitch', 'playground', 'stadium', 'swimming_pool', 'track']}\n",
        "\n",
        "# Function to get nodes from a place based on tags\n",
        "def get_nodes_from_place(place, tags):\n",
        "    return ox.features_from_place(place, tags)\n",
        "\n",
        "# Function to put tag's lat/longs in a list\n",
        "# Coords outputs Point locaitons (for metro)\n",
        "# Nodes_combined outputs a dataframe with Points/Polygons/Multipolygon geometric objects (for greenspaces)\n",
        "def get_lat_longs(tags):\n",
        "  nodes = []\n",
        "  for place in places:\n",
        "    nodes.append(get_nodes_from_place(place, tags))\n",
        "  nodes_combined = pd.concat(nodes)\n",
        "  coords = nodes_combined[nodes_combined.geom_type == 'Point'].geometry.apply(lambda geom: (geom.y, geom.x)).tolist()\n",
        "  return coords, nodes_combined\n",
        "\n",
        "#call the function for each group\n",
        "greenspace_coords, nodes_combined_green = get_lat_longs(greenspace_tags)\n",
        "metro_coords, nodes_combined_metro = get_lat_longs(metro_tags)\n",
        "school_coords, nodes_combined_school = get_lat_longs(school_tags)\n",
        "college_coords, nodes_combined_college = get_lat_longs(college_tags)\n",
        "shop_coords, nodes_combined_shop = get_lat_longs(shop_tags)\n",
        "tourism_coords, nodes_combined_tourism = get_lat_longs(tourism_tags)\n",
        "leisure_coords, nodes_combined_leisure = get_lat_longs(leisure_tags)"
      ],
      "metadata": {
        "id": "edLnC_w_ssZP"
      },
      "execution_count": 138,
      "outputs": []
    },
    {
      "cell_type": "code",
      "source": [
        "#clean nodes_combined_green\n",
        "nodes_combined_green=nodes_combined_green[['geometry','leisure']]\n",
        "\n",
        "#remove Point parks\n",
        "nodes_combined_green=nodes_combined_green[nodes_combined_green.geom_type.isin(['Polygon', 'MultiPolygon'])]\n",
        "\n",
        "#Fix Park 1685 (See Large_Park_Exploration notebook)\n",
        "\n",
        "#convert multipolygon into list of lists\n",
        "geom=nodes_combined_green.iloc[1685,0]\n",
        "mycoordslist = [list(x.exterior.coords) for x in geom.geoms]\n",
        "#remove parts of the polygon that are west of latitude -77.118427\n",
        "newcoordslist = []\n",
        "for coords in mycoordslist:\n",
        "  lst1 = []\n",
        "  for coord in coords:\n",
        "    if coord[0] > -77.118427:\n",
        "      lst1.append(coord)\n",
        "  newcoordslist.append(lst1)\n",
        "#clean new list\n",
        "newcoordslist = [x for x in newcoordslist if x != []]\n",
        "# Recreate the polygons\n",
        "polygons = [Polygon(coords) for coords in newcoordslist]\n",
        "# Create a MultiPolygon from the polygons\n",
        "multipolygon = MultiPolygon(polygons)\n",
        "#replace Park 1685's polygon with this polygon\n",
        "nodes_combined_green.iloc[1685,0]=multipolygon\n",
        "\n",
        "#remove parks that are far outside DC-metro boarders\n",
        "nodes_combined_green.drop(nodes_combined_green.index[[1726, 1696, 1729, 1964]], inplace=True) #See Large_Park_Exploration notebook for explanation of index choice\n",
        "\n",
        "#add center coords\n",
        "nodes_combined_green['centercoords'] = nodes_combined_green.geometry.apply(lambda geom: (geom.centroid.y, geom.centroid.x)).tolist()\n",
        "\n",
        "#clean the greenspace nodes combined dataframe\n",
        "nodes_combined_green.reset_index(drop=True, inplace=True)"
      ],
      "metadata": {
        "colab": {
          "base_uri": "https://localhost:8080/"
        },
        "id": "TmjfFPCWtFMp",
        "outputId": "9a82061b-74a9-4374-ccc9-896a8b2bbb54"
      },
      "execution_count": 139,
      "outputs": [
        {
          "output_type": "stream",
          "name": "stderr",
          "text": [
            "/usr/local/lib/python3.10/dist-packages/ipykernel/ipkernel.py:283: DeprecationWarning: `should_run_async` will not call `transform_cell` automatically in the future. Please pass the result to `transformed_cell` argument and any exception that happen during thetransform in `preprocessing_exc_tuple` in IPython 7.17 and above.\n",
            "  and should_run_async(code)\n"
          ]
        }
      ]
    },
    {
      "cell_type": "code",
      "source": [
        "geod = Geod(ellps=\"WGS84\")\n",
        "area_sqmeters = []\n",
        "\n",
        "for x in range(0, len(nodes_combined_green)):\n",
        "  poly= nodes_combined_green.geometry[x]\n",
        "  geod_area = abs(geod.geometry_area_perimeter(poly)[0])\n",
        "  area_sqmeters.append(geod_area)\n",
        "\n",
        "nodes_combined_green['area_sq'] = area_sqmeters"
      ],
      "metadata": {
        "colab": {
          "base_uri": "https://localhost:8080/"
        },
        "id": "Jw88Lr32tNUe",
        "outputId": "e520cdbd-94e1-49fe-8354-1718c1a76ab5"
      },
      "execution_count": 140,
      "outputs": [
        {
          "output_type": "stream",
          "name": "stderr",
          "text": [
            "/usr/local/lib/python3.10/dist-packages/ipykernel/ipkernel.py:283: DeprecationWarning: `should_run_async` will not call `transform_cell` automatically in the future. Please pass the result to `transformed_cell` argument and any exception that happen during thetransform in `preprocessing_exc_tuple` in IPython 7.17 and above.\n",
            "  and should_run_async(code)\n"
          ]
        }
      ]
    },
    {
      "cell_type": "code",
      "source": [
        "gdf = geopandas.GeoDataFrame(df, geometry=geopandas.points_from_xy(df.LONGITUDE, df.LATITUDE), crs=\"EPSG:4326\")"
      ],
      "metadata": {
        "colab": {
          "base_uri": "https://localhost:8080/"
        },
        "id": "CVv0JBPitew_",
        "outputId": "715f78be-b06c-434c-b194-7e71b2a38afc"
      },
      "execution_count": 141,
      "outputs": [
        {
          "output_type": "stream",
          "name": "stderr",
          "text": [
            "/usr/local/lib/python3.10/dist-packages/ipykernel/ipkernel.py:283: DeprecationWarning: `should_run_async` will not call `transform_cell` automatically in the future. Please pass the result to `transformed_cell` argument and any exception that happen during thetransform in `preprocessing_exc_tuple` in IPython 7.17 and above.\n",
            "  and should_run_async(code)\n"
          ]
        }
      ]
    },
    {
      "cell_type": "code",
      "source": [
        "#create a distance matrix of all the distances between every house and every park. Polygon/MultiPolygon parks will return distance to nearest edge\n",
        "#we need to project onto utm to have the distances in meters\n",
        "utm = gdf.estimate_utm_crs()\n",
        "distancematrix=gdf.geometry.to_crs(utm).apply(lambda g: nodes_combined_green.to_crs(utm).geometry.distance(g)/1000) #Rows = House, Columns = Parks, results in km"
      ],
      "metadata": {
        "colab": {
          "base_uri": "https://localhost:8080/"
        },
        "id": "OfjIMZ9Htq2J",
        "outputId": "82c9edfd-faa7-418f-bba2-3248bef425ed"
      },
      "execution_count": 142,
      "outputs": [
        {
          "output_type": "stream",
          "name": "stderr",
          "text": [
            "/usr/local/lib/python3.10/dist-packages/ipykernel/ipkernel.py:283: DeprecationWarning: `should_run_async` will not call `transform_cell` automatically in the future. Please pass the result to `transformed_cell` argument and any exception that happen during thetransform in `preprocessing_exc_tuple` in IPython 7.17 and above.\n",
            "  and should_run_async(code)\n"
          ]
        }
      ]
    },
    {
      "cell_type": "code",
      "source": [
        "dm_under2_5 = distancematrix[distancematrix<2.5]"
      ],
      "metadata": {
        "colab": {
          "base_uri": "https://localhost:8080/"
        },
        "id": "AXwslevItsKm",
        "outputId": "f6489d89-95e1-44a4-af34-f7d68d4b9e03"
      },
      "execution_count": 143,
      "outputs": [
        {
          "output_type": "stream",
          "name": "stderr",
          "text": [
            "/usr/local/lib/python3.10/dist-packages/ipykernel/ipkernel.py:283: DeprecationWarning: `should_run_async` will not call `transform_cell` automatically in the future. Please pass the result to `transformed_cell` argument and any exception that happen during thetransform in `preprocessing_exc_tuple` in IPython 7.17 and above.\n",
            "  and should_run_async(code)\n"
          ]
        }
      ]
    },
    {
      "cell_type": "code",
      "source": [
        "non_nan_indices = []\n",
        "for index, row in dm_under2_5.iterrows():\n",
        "    non_nan_indices.append(row[~row.isna()].index.tolist())"
      ],
      "metadata": {
        "colab": {
          "base_uri": "https://localhost:8080/"
        },
        "id": "gwQFbG-Dt_WS",
        "outputId": "472cad43-e7dc-4a80-d3d3-685ef62791fa"
      },
      "execution_count": 144,
      "outputs": [
        {
          "output_type": "stream",
          "name": "stderr",
          "text": [
            "/usr/local/lib/python3.10/dist-packages/ipykernel/ipkernel.py:283: DeprecationWarning: `should_run_async` will not call `transform_cell` automatically in the future. Please pass the result to `transformed_cell` argument and any exception that happen during thetransform in `preprocessing_exc_tuple` in IPython 7.17 and above.\n",
            "  and should_run_async(code)\n"
          ]
        }
      ]
    },
    {
      "cell_type": "code",
      "source": [
        "distance_under2_5 = []\n",
        "for x in range(0, len(non_nan_indices)):\n",
        "  ylist=[]\n",
        "  for y in non_nan_indices[x]:\n",
        "    z=nodes_combined_green.iloc[y,3]\n",
        "    ylist.append(z)\n",
        "  distance_under2_5.append(ylist)\n",
        "\n",
        "#add all the areas of parks under 1 km for every house\n",
        "distance_under2_5_sum = [sum(l) for l in distance_under2_5]"
      ],
      "metadata": {
        "id": "KaM6HcmAuIj-"
      },
      "execution_count": 145,
      "outputs": []
    },
    {
      "cell_type": "code",
      "source": [
        "highway_tags = {'highway': ['motorway']}\n",
        "hw_coords, nodes_combined_hw = get_lat_longs(highway_tags)"
      ],
      "metadata": {
        "id": "oXI98IBOuIpd"
      },
      "execution_count": 146,
      "outputs": []
    },
    {
      "cell_type": "code",
      "source": [
        "def get_crosses_highway_variable(area_underthresh, non_nan_indices):\n",
        "  #Create a list of the area of the largest park under threshold for every house\n",
        "  largest_park_underthresh=[]\n",
        "  for x in area_underthresh:\n",
        "    if x!=[]:\n",
        "      largest_park_underthresh.append(max(x))\n",
        "    else: largest_park_underthresh.append(0)\n",
        "  #Get the geometry for the largest park found in largest_park_under1 variable\n",
        "  #utilizes the non_nan_indicies variable to find the index in nodes_combined_green\n",
        "  largest_park_underthresh_geos=[]\n",
        "  for x in range(0, len(largest_park_underthresh)):\n",
        "    if largest_park_underthresh[x] != 0:\n",
        "      y=area_underthresh[x].index(largest_park_underthresh[x])\n",
        "      largest_park_underthresh_geos.append(nodes_combined_green.iloc[non_nan_indices[x][y],0])\n",
        "    if largest_park_underthresh[x] == 0:\n",
        "      largest_park_underthresh_geos.append('No parks')\n",
        "  #Create a line from each house to its closest largest park edge\n",
        "  lines = []\n",
        "  for x in range(0, len(largest_park_underthresh_geos)):\n",
        "    if largest_park_underthresh_geos[x] != 'No parks':\n",
        "      park = largest_park_underthresh_geos[x]\n",
        "      house = gdf.iloc[x, 16]\n",
        "      p1, p2 = nearest_points(park, house)\n",
        "      line = LineString([p1, p2])\n",
        "    else: line = 'No parks'\n",
        "    lines.append(line)\n",
        "  # Iterate through each highway polygon and check for intersection with line\n",
        "  highwaycross = []\n",
        "  for line in lines:\n",
        "    crosses_highway = False\n",
        "    for _, row in nodes_combined_hw.iterrows():\n",
        "      highway_polygon = row['geometry']\n",
        "      if line == 'No parks': break\n",
        "      if line.crosses(highway_polygon):\n",
        "        crosses_highway = True\n",
        "        break\n",
        "    highwaycross.append(crosses_highway)\n",
        "  return highwaycross"
      ],
      "metadata": {
        "colab": {
          "base_uri": "https://localhost:8080/"
        },
        "id": "uIVHWTb7u2oo",
        "outputId": "963a41c6-1a61-401c-f77d-f7db9273ab03"
      },
      "execution_count": 147,
      "outputs": [
        {
          "output_type": "stream",
          "name": "stderr",
          "text": [
            "/usr/local/lib/python3.10/dist-packages/ipykernel/ipkernel.py:283: DeprecationWarning: `should_run_async` will not call `transform_cell` automatically in the future. Please pass the result to `transformed_cell` argument and any exception that happen during thetransform in `preprocessing_exc_tuple` in IPython 7.17 and above.\n",
            "  and should_run_async(code)\n"
          ]
        }
      ]
    },
    {
      "cell_type": "code",
      "source": [
        "def get_all_greenspacearea_underthreshold(dm_underthreshold):\n",
        "  # Get the column index of every non-NaN value in dm_underthreshold\n",
        "  non_nan_indices = []\n",
        "  for index, row in dm_underthreshold.iterrows():\n",
        "    non_nan_indices.append(row[~row.isna()].index.tolist())\n",
        "  #get areas for all parks under threshold (from non_nan_indices list)\n",
        "  area_underthreshold = []\n",
        "  for x in range(0, len(non_nan_indices)):\n",
        "    ylist=[]\n",
        "    for y in non_nan_indices[x]:\n",
        "      z=nodes_combined_green.iloc[y,3] #column 3 = area_sqm\n",
        "      ylist.append(z)\n",
        "    area_underthreshold.append(ylist)\n",
        "  #add all the areas of parks under thresh for every house\n",
        "  area_underthreshold_sum = [sum(l) for l in area_underthreshold]\n",
        "  return area_underthreshold_sum, area_underthreshold, non_nan_indices"
      ],
      "metadata": {
        "id": "pPikNpZ6vPGV"
      },
      "execution_count": 148,
      "outputs": []
    },
    {
      "cell_type": "code",
      "source": [
        "area_under2_5_sum, area_under_2_5, nni_2_5 = get_all_greenspacearea_underthreshold(dm_under2_5)"
      ],
      "metadata": {
        "id": "LZ-szQYOvafZ"
      },
      "execution_count": 149,
      "outputs": []
    },
    {
      "cell_type": "code",
      "source": [
        "highwaycross_2_5 = get_crosses_highway_variable(area_under_2_5, nni_2_5)"
      ],
      "metadata": {
        "id": "QosXKZFgu7ar"
      },
      "execution_count": 150,
      "outputs": []
    },
    {
      "cell_type": "code",
      "source": [
        "df['closest_greenspace_direct'] = distancematrix.min(axis=1)\n",
        "df['closest_greenspace_coords'] = nodes_combined_green.loc[distancematrix.idxmin(axis=1)].geometry.values\n",
        "df['closest_greenspace_centercoord'] = nodes_combined_green.loc[distancematrix.idxmin(axis=1)].centercoords.values\n",
        "df['closest_greenspace_area'] = nodes_combined_green.loc[distancematrix.idxmin(axis=1)].area_sq.values"
      ],
      "metadata": {
        "id": "123gRVUWu7ez"
      },
      "execution_count": 151,
      "outputs": []
    },
    {
      "cell_type": "code",
      "source": [
        "def haversine(lat1, lon1, lat2, lon2): #To get euclidian distance from lat/long coords\n",
        "    R = 6371  # Earth radius in kilometers\n",
        "    phi1 = np.radians(lat1)\n",
        "    phi2 = np.radians(lat2)\n",
        "    delta_phi = np.radians(lat2 - lat1)\n",
        "    delta_lambda = np.radians(lon2 - lon1)\n",
        "    a = np.sin(delta_phi / 2.0) ** 2 + np.cos(phi1) * np.cos(phi2) * np.sin(delta_lambda / 2.0) ** 2\n",
        "    c = 2 * np.arctan2(np.sqrt(a), np.sqrt(1 - a))\n",
        "    return R * c\n",
        "\n",
        "def closest_direct_distance(lat, lon, coords):\n",
        "    distances = [haversine(lat, lon, x_lat, y_lon) for x_lat, y_lon in coords]\n",
        "    return min(distances), coords[distances.index(min(distances))]"
      ],
      "metadata": {
        "colab": {
          "base_uri": "https://localhost:8080/"
        },
        "id": "QQOUmaklyMDW",
        "outputId": "92e0afe6-7647-4c22-9a41-0b49e7a00c4f"
      },
      "execution_count": 152,
      "outputs": [
        {
          "output_type": "stream",
          "name": "stderr",
          "text": [
            "/usr/local/lib/python3.10/dist-packages/ipykernel/ipkernel.py:283: DeprecationWarning: `should_run_async` will not call `transform_cell` automatically in the future. Please pass the result to `transformed_cell` argument and any exception that happen during thetransform in `preprocessing_exc_tuple` in IPython 7.17 and above.\n",
            "  and should_run_async(code)\n"
          ]
        }
      ]
    },
    {
      "cell_type": "code",
      "source": [
        "df[['closest_metro_direct', 'closest_metro_loc']] = df.apply(lambda row: closest_direct_distance(row['LATITUDE'], row['LONGITUDE'], metro_coords), axis=1, result_type='expand')\n",
        "df[['closest_school_direct', 'closest_school_loc']] = df.apply(lambda row: closest_direct_distance(row['LATITUDE'], row['LONGITUDE'], school_coords), axis=1, result_type='expand')\n",
        "df[['closest_college_direct', 'closest_college_loc']] = df.apply(lambda row: closest_direct_distance(row['LATITUDE'], row['LONGITUDE'], college_coords), axis=1, result_type='expand')\n",
        "df[['closest_shop_direct', 'closest_shop_loc']] = df.apply(lambda row: closest_direct_distance(row['LATITUDE'], row['LONGITUDE'], shop_coords), axis=1, result_type='expand')\n",
        "df[['closest_tourism_direct', 'closest_tourism_loc']] = df.apply(lambda row: closest_direct_distance(row['LATITUDE'], row['LONGITUDE'], tourism_coords), axis=1, result_type='expand')\n",
        "df[['closest_leisure_direct', 'closest_leisure_loc']] = df.apply(lambda row: closest_direct_distance(row['LATITUDE'], row['LONGITUDE'], leisure_coords), axis=1, result_type='expand')"
      ],
      "metadata": {
        "id": "zvo8x9X9yQH3"
      },
      "execution_count": 153,
      "outputs": []
    },
    {
      "cell_type": "code",
      "source": [
        "df = pd.get_dummies(df, columns=['PROPERTY TYPE'], dtype = int)"
      ],
      "metadata": {
        "colab": {
          "base_uri": "https://localhost:8080/"
        },
        "id": "QTtv6frxylkW",
        "outputId": "772d01ae-bf26-43e5-c90e-44171b9fccc1"
      },
      "execution_count": 154,
      "outputs": [
        {
          "output_type": "stream",
          "name": "stderr",
          "text": [
            "/usr/local/lib/python3.10/dist-packages/ipykernel/ipkernel.py:283: DeprecationWarning: `should_run_async` will not call `transform_cell` automatically in the future. Please pass the result to `transformed_cell` argument and any exception that happen during thetransform in `preprocessing_exc_tuple` in IPython 7.17 and above.\n",
            "  and should_run_async(code)\n"
          ]
        }
      ]
    },
    {
      "cell_type": "code",
      "source": [
        "!wget https://github.com/cbarnes5/DATA606CapstoneProject/raw/main/location_to_price_dict.pkl"
      ],
      "metadata": {
        "colab": {
          "base_uri": "https://localhost:8080/"
        },
        "id": "HQJ89wl5zjBg",
        "outputId": "88bdf4d2-ea45-4584-d4be-e87339fc6b76"
      },
      "execution_count": 155,
      "outputs": [
        {
          "output_type": "stream",
          "name": "stderr",
          "text": [
            "/usr/local/lib/python3.10/dist-packages/ipykernel/ipkernel.py:283: DeprecationWarning: `should_run_async` will not call `transform_cell` automatically in the future. Please pass the result to `transformed_cell` argument and any exception that happen during thetransform in `preprocessing_exc_tuple` in IPython 7.17 and above.\n",
            "  and should_run_async(code)\n"
          ]
        },
        {
          "output_type": "stream",
          "name": "stdout",
          "text": [
            "--2024-07-29 18:59:06--  https://github.com/cbarnes5/DATA606CapstoneProject/raw/main/location_to_price_dict.pkl\n",
            "Resolving github.com (github.com)... 140.82.114.3\n",
            "Connecting to github.com (github.com)|140.82.114.3|:443... connected.\n",
            "HTTP request sent, awaiting response... 302 Found\n",
            "Location: https://raw.githubusercontent.com/cbarnes5/DATA606CapstoneProject/main/location_to_price_dict.pkl [following]\n",
            "--2024-07-29 18:59:06--  https://raw.githubusercontent.com/cbarnes5/DATA606CapstoneProject/main/location_to_price_dict.pkl\n",
            "Resolving raw.githubusercontent.com (raw.githubusercontent.com)... 185.199.108.133, 185.199.109.133, 185.199.110.133, ...\n",
            "Connecting to raw.githubusercontent.com (raw.githubusercontent.com)|185.199.108.133|:443... connected.\n",
            "HTTP request sent, awaiting response... 200 OK\n",
            "Length: 10157 (9.9K) [application/octet-stream]\n",
            "Saving to: ‘location_to_price_dict.pkl.2’\n",
            "\n",
            "\r          location_   0%[                    ]       0  --.-KB/s               \rlocation_to_price_d 100%[===================>]   9.92K  --.-KB/s    in 0s      \n",
            "\n",
            "2024-07-29 18:59:06 (80.3 MB/s) - ‘location_to_price_dict.pkl.2’ saved [10157/10157]\n",
            "\n"
          ]
        }
      ]
    },
    {
      "cell_type": "code",
      "source": [
        "with open('location_to_price_dict.pkl', 'rb') as file:\n",
        "    location_to_price_dict = pickle.load(file)\n",
        "df['TARGET_ENCODED_PRICE_50'] = df['LOCATION'].map(location_to_price_dict)\n",
        "df['all_greenspace_area_under2.5km'] = area_under2_5_sum\n",
        "df['crosses_highway_under2.5km'] = highwaycross_2_5"
      ],
      "metadata": {
        "id": "HJvz-RcAz134"
      },
      "execution_count": 156,
      "outputs": []
    },
    {
      "cell_type": "code",
      "source": [
        "listed_price = df['PRICE'].copy()\n",
        "dropped = ['SOLD DATE', 'PRICE', 'ADDRESS', 'CITY', 'STATE OR PROVINCE', 'ZIP OR POSTAL CODE', 'LOCATION', 'LATITUDE', 'LONGITUDE', 'closest_greenspace_coords', 'closest_greenspace_centercoord', 'closest_metro_loc',\n",
        "           'closest_metro_loc', 'closest_school_loc', 'closest_college_loc', 'closest_shop_loc', 'closest_tourism_loc', 'closest_leisure_loc'] #A bit different then our previous dropped, you drop price for deployment\n",
        "df = df.drop(columns = dropped)"
      ],
      "metadata": {
        "id": "wJ9JWTS8yhfA",
        "colab": {
          "base_uri": "https://localhost:8080/"
        },
        "outputId": "eec726cc-ea9a-4599-d854-b31beb00b4c9"
      },
      "execution_count": 157,
      "outputs": [
        {
          "output_type": "stream",
          "name": "stderr",
          "text": [
            "/usr/local/lib/python3.10/dist-packages/ipykernel/ipkernel.py:283: DeprecationWarning: `should_run_async` will not call `transform_cell` automatically in the future. Please pass the result to `transformed_cell` argument and any exception that happen during thetransform in `preprocessing_exc_tuple` in IPython 7.17 and above.\n",
            "  and should_run_async(code)\n"
          ]
        }
      ]
    },
    {
      "cell_type": "code",
      "source": [
        "df = df.fillna(0)"
      ],
      "metadata": {
        "colab": {
          "base_uri": "https://localhost:8080/"
        },
        "id": "QS8puRKM1ATR",
        "outputId": "f72134bc-6089-439f-bd0f-f72f50eb1b9b"
      },
      "execution_count": 158,
      "outputs": [
        {
          "output_type": "stream",
          "name": "stderr",
          "text": [
            "/usr/local/lib/python3.10/dist-packages/ipykernel/ipkernel.py:283: DeprecationWarning: `should_run_async` will not call `transform_cell` automatically in the future. Please pass the result to `transformed_cell` argument and any exception that happen during thetransform in `preprocessing_exc_tuple` in IPython 7.17 and above.\n",
            "  and should_run_async(code)\n"
          ]
        }
      ]
    },
    {
      "cell_type": "code",
      "source": [
        "url = 'https://raw.githubusercontent.com/cbarnes5/DATA606CapstoneProject/main/X_raw_final.csv'\n",
        "X_raw = pd.read_csv(url, index_col = 0)\n",
        "url = 'https://raw.githubusercontent.com/cbarnes5/DATA606CapstoneProject/main/X_train_final.csv'\n",
        "X_train = pd.read_csv(url, index_col = 0)"
      ],
      "metadata": {
        "id": "UpRglzXm1Yvx"
      },
      "execution_count": 159,
      "outputs": []
    },
    {
      "cell_type": "code",
      "source": [
        "exclude_columns = ['PROPERTY TYPE_Condo/Co-op', 'PROPERTY TYPE_Single Family Residential', 'PROPERTY TYPE_Townhouse', 'crosses_highway_under2.5km'] #careful, this assumes any new column we add should be thrown into robust scaler (probably is the case)\n",
        "all_columns = X_raw.columns\n",
        "robust_columns = [col for col in all_columns if col not in exclude_columns]\n",
        "scaler = RobustScaler()\n",
        "scaler.fit(X_raw[robust_columns])"
      ],
      "metadata": {
        "colab": {
          "base_uri": "https://localhost:8080/",
          "height": 131
        },
        "id": "JpEiEMSl1dBM",
        "outputId": "90a4718f-3d95-4c14-8f4c-8d8e3950fadb"
      },
      "execution_count": 160,
      "outputs": [
        {
          "output_type": "stream",
          "name": "stderr",
          "text": [
            "/usr/local/lib/python3.10/dist-packages/ipykernel/ipkernel.py:283: DeprecationWarning: `should_run_async` will not call `transform_cell` automatically in the future. Please pass the result to `transformed_cell` argument and any exception that happen during thetransform in `preprocessing_exc_tuple` in IPython 7.17 and above.\n",
            "  and should_run_async(code)\n"
          ]
        },
        {
          "output_type": "execute_result",
          "data": {
            "text/plain": [
              "RobustScaler()"
            ],
            "text/html": [
              "<style>#sk-container-id-4 {color: black;}#sk-container-id-4 pre{padding: 0;}#sk-container-id-4 div.sk-toggleable {background-color: white;}#sk-container-id-4 label.sk-toggleable__label {cursor: pointer;display: block;width: 100%;margin-bottom: 0;padding: 0.3em;box-sizing: border-box;text-align: center;}#sk-container-id-4 label.sk-toggleable__label-arrow:before {content: \"▸\";float: left;margin-right: 0.25em;color: #696969;}#sk-container-id-4 label.sk-toggleable__label-arrow:hover:before {color: black;}#sk-container-id-4 div.sk-estimator:hover label.sk-toggleable__label-arrow:before {color: black;}#sk-container-id-4 div.sk-toggleable__content {max-height: 0;max-width: 0;overflow: hidden;text-align: left;background-color: #f0f8ff;}#sk-container-id-4 div.sk-toggleable__content pre {margin: 0.2em;color: black;border-radius: 0.25em;background-color: #f0f8ff;}#sk-container-id-4 input.sk-toggleable__control:checked~div.sk-toggleable__content {max-height: 200px;max-width: 100%;overflow: auto;}#sk-container-id-4 input.sk-toggleable__control:checked~label.sk-toggleable__label-arrow:before {content: \"▾\";}#sk-container-id-4 div.sk-estimator input.sk-toggleable__control:checked~label.sk-toggleable__label {background-color: #d4ebff;}#sk-container-id-4 div.sk-label input.sk-toggleable__control:checked~label.sk-toggleable__label {background-color: #d4ebff;}#sk-container-id-4 input.sk-hidden--visually {border: 0;clip: rect(1px 1px 1px 1px);clip: rect(1px, 1px, 1px, 1px);height: 1px;margin: -1px;overflow: hidden;padding: 0;position: absolute;width: 1px;}#sk-container-id-4 div.sk-estimator {font-family: monospace;background-color: #f0f8ff;border: 1px dotted black;border-radius: 0.25em;box-sizing: border-box;margin-bottom: 0.5em;}#sk-container-id-4 div.sk-estimator:hover {background-color: #d4ebff;}#sk-container-id-4 div.sk-parallel-item::after {content: \"\";width: 100%;border-bottom: 1px solid gray;flex-grow: 1;}#sk-container-id-4 div.sk-label:hover label.sk-toggleable__label {background-color: #d4ebff;}#sk-container-id-4 div.sk-serial::before {content: \"\";position: absolute;border-left: 1px solid gray;box-sizing: border-box;top: 0;bottom: 0;left: 50%;z-index: 0;}#sk-container-id-4 div.sk-serial {display: flex;flex-direction: column;align-items: center;background-color: white;padding-right: 0.2em;padding-left: 0.2em;position: relative;}#sk-container-id-4 div.sk-item {position: relative;z-index: 1;}#sk-container-id-4 div.sk-parallel {display: flex;align-items: stretch;justify-content: center;background-color: white;position: relative;}#sk-container-id-4 div.sk-item::before, #sk-container-id-4 div.sk-parallel-item::before {content: \"\";position: absolute;border-left: 1px solid gray;box-sizing: border-box;top: 0;bottom: 0;left: 50%;z-index: -1;}#sk-container-id-4 div.sk-parallel-item {display: flex;flex-direction: column;z-index: 1;position: relative;background-color: white;}#sk-container-id-4 div.sk-parallel-item:first-child::after {align-self: flex-end;width: 50%;}#sk-container-id-4 div.sk-parallel-item:last-child::after {align-self: flex-start;width: 50%;}#sk-container-id-4 div.sk-parallel-item:only-child::after {width: 0;}#sk-container-id-4 div.sk-dashed-wrapped {border: 1px dashed gray;margin: 0 0.4em 0.5em 0.4em;box-sizing: border-box;padding-bottom: 0.4em;background-color: white;}#sk-container-id-4 div.sk-label label {font-family: monospace;font-weight: bold;display: inline-block;line-height: 1.2em;}#sk-container-id-4 div.sk-label-container {text-align: center;}#sk-container-id-4 div.sk-container {/* jupyter's `normalize.less` sets `[hidden] { display: none; }` but bootstrap.min.css set `[hidden] { display: none !important; }` so we also need the `!important` here to be able to override the default hidden behavior on the sphinx rendered scikit-learn.org. See: https://github.com/scikit-learn/scikit-learn/issues/21755 */display: inline-block !important;position: relative;}#sk-container-id-4 div.sk-text-repr-fallback {display: none;}</style><div id=\"sk-container-id-4\" class=\"sk-top-container\"><div class=\"sk-text-repr-fallback\"><pre>RobustScaler()</pre><b>In a Jupyter environment, please rerun this cell to show the HTML representation or trust the notebook. <br />On GitHub, the HTML representation is unable to render, please try loading this page with nbviewer.org.</b></div><div class=\"sk-container\" hidden><div class=\"sk-item\"><div class=\"sk-estimator sk-toggleable\"><input class=\"sk-toggleable__control sk-hidden--visually\" id=\"sk-estimator-id-4\" type=\"checkbox\" checked><label for=\"sk-estimator-id-4\" class=\"sk-toggleable__label sk-toggleable__label-arrow\">RobustScaler</label><div class=\"sk-toggleable__content\"><pre>RobustScaler()</pre></div></div></div></div></div>"
            ]
          },
          "metadata": {},
          "execution_count": 160
        }
      ]
    },
    {
      "cell_type": "code",
      "source": [
        "df[robust_columns] = scaler.transform(df[robust_columns])"
      ],
      "metadata": {
        "colab": {
          "base_uri": "https://localhost:8080/"
        },
        "id": "E5LRJ4ew1zKj",
        "outputId": "d06a6c17-bacc-4bd8-fd5a-1067951fb02e"
      },
      "execution_count": 161,
      "outputs": [
        {
          "output_type": "stream",
          "name": "stderr",
          "text": [
            "/usr/local/lib/python3.10/dist-packages/ipykernel/ipkernel.py:283: DeprecationWarning: `should_run_async` will not call `transform_cell` automatically in the future. Please pass the result to `transformed_cell` argument and any exception that happen during thetransform in `preprocessing_exc_tuple` in IPython 7.17 and above.\n",
            "  and should_run_async(code)\n"
          ]
        }
      ]
    },
    {
      "cell_type": "code",
      "source": [
        "!wget https://github.com/cbarnes5/DATA606CapstoneProject/raw/main/xgb_model_final.pkl"
      ],
      "metadata": {
        "colab": {
          "base_uri": "https://localhost:8080/"
        },
        "id": "5ssSkwys2CT-",
        "outputId": "bb45417e-2dd8-4dad-f1d5-5a54ddc1c84e"
      },
      "execution_count": 162,
      "outputs": [
        {
          "output_type": "stream",
          "name": "stderr",
          "text": [
            "/usr/local/lib/python3.10/dist-packages/ipykernel/ipkernel.py:283: DeprecationWarning: `should_run_async` will not call `transform_cell` automatically in the future. Please pass the result to `transformed_cell` argument and any exception that happen during thetransform in `preprocessing_exc_tuple` in IPython 7.17 and above.\n",
            "  and should_run_async(code)\n"
          ]
        },
        {
          "output_type": "stream",
          "name": "stdout",
          "text": [
            "--2024-07-29 18:59:07--  https://github.com/cbarnes5/DATA606CapstoneProject/raw/main/xgb_model_final.pkl\n",
            "Resolving github.com (github.com)... 140.82.114.3\n",
            "Connecting to github.com (github.com)|140.82.114.3|:443... connected.\n",
            "HTTP request sent, awaiting response... 302 Found\n",
            "Location: https://raw.githubusercontent.com/cbarnes5/DATA606CapstoneProject/main/xgb_model_final.pkl [following]\n",
            "--2024-07-29 18:59:07--  https://raw.githubusercontent.com/cbarnes5/DATA606CapstoneProject/main/xgb_model_final.pkl\n",
            "Resolving raw.githubusercontent.com (raw.githubusercontent.com)... 185.199.108.133, 185.199.111.133, 185.199.110.133, ...\n",
            "Connecting to raw.githubusercontent.com (raw.githubusercontent.com)|185.199.108.133|:443... connected.\n",
            "HTTP request sent, awaiting response... 200 OK\n",
            "Length: 733613 (716K) [application/octet-stream]\n",
            "Saving to: ‘xgb_model_final.pkl.1’\n",
            "\n",
            "xgb_model_final.pkl 100%[===================>] 716.42K  --.-KB/s    in 0.05s   \n",
            "\n",
            "2024-07-29 18:59:07 (12.8 MB/s) - ‘xgb_model_final.pkl.1’ saved [733613/733613]\n",
            "\n"
          ]
        }
      ]
    },
    {
      "cell_type": "code",
      "source": [
        "with open('xgb_model_final.pkl', 'rb') as file:\n",
        "    xgb_model = pickle.load(file)"
      ],
      "metadata": {
        "id": "YiwsFg8m2Fhu"
      },
      "execution_count": 163,
      "outputs": []
    },
    {
      "cell_type": "code",
      "source": [
        "!wget https://github.com/cbarnes5/DATA606CapstoneProject/raw/main/y_train_final.pkl"
      ],
      "metadata": {
        "colab": {
          "base_uri": "https://localhost:8080/"
        },
        "id": "MchgfkzD2UKf",
        "outputId": "dd754b81-e090-4743-d62e-a00223de0b6e"
      },
      "execution_count": 164,
      "outputs": [
        {
          "output_type": "stream",
          "name": "stdout",
          "text": [
            "--2024-07-29 18:59:07--  https://github.com/cbarnes5/DATA606CapstoneProject/raw/main/y_train_final.pkl\n",
            "Resolving github.com (github.com)... 140.82.114.3\n",
            "Connecting to github.com (github.com)|140.82.114.3|:443... connected.\n",
            "HTTP request sent, awaiting response... 302 Found\n",
            "Location: https://raw.githubusercontent.com/cbarnes5/DATA606CapstoneProject/main/y_train_final.pkl [following]\n",
            "--2024-07-29 18:59:07--  https://raw.githubusercontent.com/cbarnes5/DATA606CapstoneProject/main/y_train_final.pkl\n",
            "Resolving raw.githubusercontent.com (raw.githubusercontent.com)... 185.199.108.133, 185.199.109.133, 185.199.110.133, ...\n",
            "Connecting to raw.githubusercontent.com (raw.githubusercontent.com)|185.199.108.133|:443... connected.\n",
            "HTTP request sent, awaiting response... 200 OK\n",
            "Length: 45875 (45K) [application/octet-stream]\n",
            "Saving to: ‘y_train_final.pkl.1’\n",
            "\n",
            "y_train_final.pkl.1 100%[===================>]  44.80K  --.-KB/s    in 0.01s   \n",
            "\n",
            "2024-07-29 18:59:07 (3.95 MB/s) - ‘y_train_final.pkl.1’ saved [45875/45875]\n",
            "\n"
          ]
        }
      ]
    },
    {
      "cell_type": "code",
      "source": [
        "with open('y_train_final.pkl', 'rb') as file:\n",
        "    y_train = pickle.load(file)"
      ],
      "metadata": {
        "id": "MukotO3g2HFY"
      },
      "execution_count": 165,
      "outputs": []
    },
    {
      "cell_type": "code",
      "source": [
        "xgb_model.fit(X_train, y_train)"
      ],
      "metadata": {
        "colab": {
          "base_uri": "https://localhost:8080/",
          "height": 305
        },
        "id": "HQ38nH_e2HHt",
        "outputId": "7cfc092a-0b0b-4199-ff85-987739a00666"
      },
      "execution_count": 166,
      "outputs": [
        {
          "output_type": "stream",
          "name": "stderr",
          "text": [
            "/usr/local/lib/python3.10/dist-packages/ipykernel/ipkernel.py:283: DeprecationWarning: `should_run_async` will not call `transform_cell` automatically in the future. Please pass the result to `transformed_cell` argument and any exception that happen during thetransform in `preprocessing_exc_tuple` in IPython 7.17 and above.\n",
            "  and should_run_async(code)\n"
          ]
        },
        {
          "output_type": "execute_result",
          "data": {
            "text/plain": [
              "XGBRegressor(base_score=None, booster=None, callbacks=None,\n",
              "             colsample_bylevel=None, colsample_bynode=None,\n",
              "             colsample_bytree=0.8, device=None, early_stopping_rounds=None,\n",
              "             enable_categorical=False, eval_metric=None, feature_types=None,\n",
              "             gamma=0, grow_policy=None, importance_type=None,\n",
              "             interaction_constraints=None, learning_rate=0.05, max_bin=None,\n",
              "             max_cat_threshold=None, max_cat_to_onehot=None,\n",
              "             max_delta_step=None, max_depth=5, max_leaves=None,\n",
              "             min_child_weight=None, missing=nan, monotone_constraints=None,\n",
              "             multi_strategy=None, n_estimators=300, n_jobs=None,\n",
              "             num_parallel_tree=None, random_state=42, ...)"
            ],
            "text/html": [
              "<style>#sk-container-id-5 {color: black;}#sk-container-id-5 pre{padding: 0;}#sk-container-id-5 div.sk-toggleable {background-color: white;}#sk-container-id-5 label.sk-toggleable__label {cursor: pointer;display: block;width: 100%;margin-bottom: 0;padding: 0.3em;box-sizing: border-box;text-align: center;}#sk-container-id-5 label.sk-toggleable__label-arrow:before {content: \"▸\";float: left;margin-right: 0.25em;color: #696969;}#sk-container-id-5 label.sk-toggleable__label-arrow:hover:before {color: black;}#sk-container-id-5 div.sk-estimator:hover label.sk-toggleable__label-arrow:before {color: black;}#sk-container-id-5 div.sk-toggleable__content {max-height: 0;max-width: 0;overflow: hidden;text-align: left;background-color: #f0f8ff;}#sk-container-id-5 div.sk-toggleable__content pre {margin: 0.2em;color: black;border-radius: 0.25em;background-color: #f0f8ff;}#sk-container-id-5 input.sk-toggleable__control:checked~div.sk-toggleable__content {max-height: 200px;max-width: 100%;overflow: auto;}#sk-container-id-5 input.sk-toggleable__control:checked~label.sk-toggleable__label-arrow:before {content: \"▾\";}#sk-container-id-5 div.sk-estimator input.sk-toggleable__control:checked~label.sk-toggleable__label {background-color: #d4ebff;}#sk-container-id-5 div.sk-label input.sk-toggleable__control:checked~label.sk-toggleable__label {background-color: #d4ebff;}#sk-container-id-5 input.sk-hidden--visually {border: 0;clip: rect(1px 1px 1px 1px);clip: rect(1px, 1px, 1px, 1px);height: 1px;margin: -1px;overflow: hidden;padding: 0;position: absolute;width: 1px;}#sk-container-id-5 div.sk-estimator {font-family: monospace;background-color: #f0f8ff;border: 1px dotted black;border-radius: 0.25em;box-sizing: border-box;margin-bottom: 0.5em;}#sk-container-id-5 div.sk-estimator:hover {background-color: #d4ebff;}#sk-container-id-5 div.sk-parallel-item::after {content: \"\";width: 100%;border-bottom: 1px solid gray;flex-grow: 1;}#sk-container-id-5 div.sk-label:hover label.sk-toggleable__label {background-color: #d4ebff;}#sk-container-id-5 div.sk-serial::before {content: \"\";position: absolute;border-left: 1px solid gray;box-sizing: border-box;top: 0;bottom: 0;left: 50%;z-index: 0;}#sk-container-id-5 div.sk-serial {display: flex;flex-direction: column;align-items: center;background-color: white;padding-right: 0.2em;padding-left: 0.2em;position: relative;}#sk-container-id-5 div.sk-item {position: relative;z-index: 1;}#sk-container-id-5 div.sk-parallel {display: flex;align-items: stretch;justify-content: center;background-color: white;position: relative;}#sk-container-id-5 div.sk-item::before, #sk-container-id-5 div.sk-parallel-item::before {content: \"\";position: absolute;border-left: 1px solid gray;box-sizing: border-box;top: 0;bottom: 0;left: 50%;z-index: -1;}#sk-container-id-5 div.sk-parallel-item {display: flex;flex-direction: column;z-index: 1;position: relative;background-color: white;}#sk-container-id-5 div.sk-parallel-item:first-child::after {align-self: flex-end;width: 50%;}#sk-container-id-5 div.sk-parallel-item:last-child::after {align-self: flex-start;width: 50%;}#sk-container-id-5 div.sk-parallel-item:only-child::after {width: 0;}#sk-container-id-5 div.sk-dashed-wrapped {border: 1px dashed gray;margin: 0 0.4em 0.5em 0.4em;box-sizing: border-box;padding-bottom: 0.4em;background-color: white;}#sk-container-id-5 div.sk-label label {font-family: monospace;font-weight: bold;display: inline-block;line-height: 1.2em;}#sk-container-id-5 div.sk-label-container {text-align: center;}#sk-container-id-5 div.sk-container {/* jupyter's `normalize.less` sets `[hidden] { display: none; }` but bootstrap.min.css set `[hidden] { display: none !important; }` so we also need the `!important` here to be able to override the default hidden behavior on the sphinx rendered scikit-learn.org. See: https://github.com/scikit-learn/scikit-learn/issues/21755 */display: inline-block !important;position: relative;}#sk-container-id-5 div.sk-text-repr-fallback {display: none;}</style><div id=\"sk-container-id-5\" class=\"sk-top-container\"><div class=\"sk-text-repr-fallback\"><pre>XGBRegressor(base_score=None, booster=None, callbacks=None,\n",
              "             colsample_bylevel=None, colsample_bynode=None,\n",
              "             colsample_bytree=0.8, device=None, early_stopping_rounds=None,\n",
              "             enable_categorical=False, eval_metric=None, feature_types=None,\n",
              "             gamma=0, grow_policy=None, importance_type=None,\n",
              "             interaction_constraints=None, learning_rate=0.05, max_bin=None,\n",
              "             max_cat_threshold=None, max_cat_to_onehot=None,\n",
              "             max_delta_step=None, max_depth=5, max_leaves=None,\n",
              "             min_child_weight=None, missing=nan, monotone_constraints=None,\n",
              "             multi_strategy=None, n_estimators=300, n_jobs=None,\n",
              "             num_parallel_tree=None, random_state=42, ...)</pre><b>In a Jupyter environment, please rerun this cell to show the HTML representation or trust the notebook. <br />On GitHub, the HTML representation is unable to render, please try loading this page with nbviewer.org.</b></div><div class=\"sk-container\" hidden><div class=\"sk-item\"><div class=\"sk-estimator sk-toggleable\"><input class=\"sk-toggleable__control sk-hidden--visually\" id=\"sk-estimator-id-5\" type=\"checkbox\" checked><label for=\"sk-estimator-id-5\" class=\"sk-toggleable__label sk-toggleable__label-arrow\">XGBRegressor</label><div class=\"sk-toggleable__content\"><pre>XGBRegressor(base_score=None, booster=None, callbacks=None,\n",
              "             colsample_bylevel=None, colsample_bynode=None,\n",
              "             colsample_bytree=0.8, device=None, early_stopping_rounds=None,\n",
              "             enable_categorical=False, eval_metric=None, feature_types=None,\n",
              "             gamma=0, grow_policy=None, importance_type=None,\n",
              "             interaction_constraints=None, learning_rate=0.05, max_bin=None,\n",
              "             max_cat_threshold=None, max_cat_to_onehot=None,\n",
              "             max_delta_step=None, max_depth=5, max_leaves=None,\n",
              "             min_child_weight=None, missing=nan, monotone_constraints=None,\n",
              "             multi_strategy=None, n_estimators=300, n_jobs=None,\n",
              "             num_parallel_tree=None, random_state=42, ...)</pre></div></div></div></div></div>"
            ]
          },
          "metadata": {},
          "execution_count": 166
        }
      ]
    },
    {
      "cell_type": "code",
      "source": [
        "y_pred = xgb_model.predict(df)"
      ],
      "metadata": {
        "colab": {
          "base_uri": "https://localhost:8080/"
        },
        "id": "ssR5ROta2aLp",
        "outputId": "3f7316d5-4d37-4c0f-f34e-f6f79e4e3264"
      },
      "execution_count": 169,
      "outputs": [
        {
          "output_type": "stream",
          "name": "stderr",
          "text": [
            "/usr/local/lib/python3.10/dist-packages/ipykernel/ipkernel.py:283: DeprecationWarning: `should_run_async` will not call `transform_cell` automatically in the future. Please pass the result to `transformed_cell` argument and any exception that happen during thetransform in `preprocessing_exc_tuple` in IPython 7.17 and above.\n",
            "  and should_run_async(code)\n"
          ]
        }
      ]
    },
    {
      "cell_type": "markdown",
      "source": [
        "Now let's get our original DF again and see results"
      ],
      "metadata": {
        "id": "PoA3gJw43PGs"
      }
    },
    {
      "cell_type": "code",
      "source": [
        "url = 'https://raw.githubusercontent.com/cbarnes5/DATA606CapstoneProject/main/redfin_2024-07-29-11-03-05.csv'\n",
        "df = pd.read_csv(url, index_col = 0)\n",
        "#remove duplicate rows\n",
        "df['duplicates']=df.duplicated()\n",
        "df=df[df['duplicates']==False]\n",
        "\n",
        "#reset index\n",
        "df.reset_index(inplace=True)\n",
        "\n",
        "#Fill N/A HOA columns to 0\n",
        "df['HOA/MONTH'].fillna(0, inplace=True)\n",
        "\n",
        "#remove parking lots and vacant land\n",
        "df=df[df['PROPERTY TYPE'].isin(['Multi-Family (2-4 Unit)', 'Condo/Co-op', 'Townhouse', 'Single Family Residential'])]\n",
        "df=df[['PROPERTY TYPE', 'ADDRESS', 'CITY', 'STATE OR PROVINCE', 'ZIP OR POSTAL CODE', 'PRICE', 'BEDS', 'BATHS', 'LOCATION', 'SQUARE FEET', 'LOT SIZE', 'YEAR BUILT', 'HOA/MONTH', 'LATITUDE', 'LONGITUDE']]\n",
        "df=df[df['PROPERTY TYPE'].isin(['Condo/Co-op', 'Townhouse', 'Single Family Residential']) & df['CITY'].isin(['Washington', 'Arlington', 'Alexandria'])]"
      ],
      "metadata": {
        "id": "F1b6r1ON3FZM"
      },
      "execution_count": 171,
      "outputs": []
    },
    {
      "cell_type": "code",
      "source": [
        "df['pred_price'] = y_pred"
      ],
      "metadata": {
        "colab": {
          "base_uri": "https://localhost:8080/"
        },
        "id": "EXNsvc5y3cfV",
        "outputId": "1fc77b55-c0f6-46fc-e51d-07ede68e850d"
      },
      "execution_count": 173,
      "outputs": [
        {
          "output_type": "stream",
          "name": "stderr",
          "text": [
            "/usr/local/lib/python3.10/dist-packages/ipykernel/ipkernel.py:283: DeprecationWarning: `should_run_async` will not call `transform_cell` automatically in the future. Please pass the result to `transformed_cell` argument and any exception that happen during thetransform in `preprocessing_exc_tuple` in IPython 7.17 and above.\n",
            "  and should_run_async(code)\n"
          ]
        }
      ]
    },
    {
      "cell_type": "code",
      "source": [
        "df"
      ],
      "metadata": {
        "colab": {
          "base_uri": "https://localhost:8080/",
          "height": 480
        },
        "id": "_qctoHx73qCR",
        "outputId": "0cb56dcd-1ad7-4e63-d020-8eda11ce4a64"
      },
      "execution_count": 174,
      "outputs": [
        {
          "output_type": "stream",
          "name": "stderr",
          "text": [
            "/usr/local/lib/python3.10/dist-packages/ipykernel/ipkernel.py:283: DeprecationWarning: `should_run_async` will not call `transform_cell` automatically in the future. Please pass the result to `transformed_cell` argument and any exception that happen during thetransform in `preprocessing_exc_tuple` in IPython 7.17 and above.\n",
            "  and should_run_async(code)\n"
          ]
        },
        {
          "output_type": "execute_result",
          "data": {
            "text/plain": [
              "                 PROPERTY TYPE                   ADDRESS        CITY  \\\n",
              "1                    Townhouse          649 Morton St NW  Washington   \n",
              "2    Single Family Residential            5886 14th St N   Arlington   \n",
              "3                    Townhouse         1637 Irving St NW  Washington   \n",
              "4                  Condo/Co-op  520 John Carlyle St #219  Alexandria   \n",
              "5    Single Family Residential             5628 Gary Ave  Alexandria   \n",
              "..                         ...                       ...         ...   \n",
              "346                  Townhouse    2817-A S Woodrow St #1   Arlington   \n",
              "347                  Townhouse      545 S Saint Asaph St  Alexandria   \n",
              "348                Condo/Co-op  4550 Strutfield Ln #2223  Alexandria   \n",
              "349  Single Family Residential           410 Aspen St NW  Washington   \n",
              "350                  Townhouse          714 Barnes St NE  Washington   \n",
              "\n",
              "    STATE OR PROVINCE  ZIP OR POSTAL CODE      PRICE  BEDS  BATHS  \\\n",
              "1                  DC             20010.0   625000.0   2.0    1.5   \n",
              "2                  VA             22205.0  1299000.0   5.0    3.5   \n",
              "3                  DC             20010.0  1245000.0   4.0    2.0   \n",
              "4                  VA             22314.0   445000.0   1.0    1.0   \n",
              "5                  VA             22311.0   799000.0   4.0    1.5   \n",
              "..                ...                 ...        ...   ...    ...   \n",
              "346                VA             22206.0   675000.0   3.0    2.0   \n",
              "347                VA             22314.0   985000.0   3.0    2.5   \n",
              "348                VA             22311.0   319000.0   1.0    1.0   \n",
              "349                DC             20012.0  1050000.0   5.0    3.0   \n",
              "350                DC             20019.0   525000.0   3.0    3.5   \n",
              "\n",
              "                   LOCATION  SQUARE FEET  LOT SIZE  YEAR BUILT  HOA/MONTH  \\\n",
              "1          Columbia Heights       1088.0    1388.0      1928.0        0.0   \n",
              "2                  WESTOVER       2313.0    7395.0      1939.0        0.0   \n",
              "3            Mount Pleasant       2486.0    2348.0      1917.0        0.0   \n",
              "4            CARLYLE SQUARE        760.0       NaN      2007.0      590.0   \n",
              "5            SHIRLEY FOREST       1862.0   10475.0      1959.0        0.0   \n",
              "..                      ...          ...       ...         ...        ...   \n",
              "346         COURTBRDGE I&II       2066.0       NaN      1982.0      581.0   \n",
              "347            TANNERY YARD       1260.0     748.0      1976.0      100.0   \n",
              "348  PALAZZO AT PARK CENTER        818.0       NaN      2000.0      479.0   \n",
              "349              Brightwood       2224.0    8250.0      1913.0        0.0   \n",
              "350              Lily Ponds       1924.0    1299.0      2014.0       80.0   \n",
              "\n",
              "      LATITUDE  LONGITUDE    pred_price  \n",
              "1    38.932268 -77.022599  6.393133e+05  \n",
              "2    38.882172 -77.143247  1.355891e+06  \n",
              "3    38.928982 -77.038523  1.058641e+06  \n",
              "4    38.801935 -77.061552  4.323214e+05  \n",
              "5    38.835506 -77.126423  7.273896e+05  \n",
              "..         ...        ...           ...  \n",
              "346  38.840766 -77.097163  6.128288e+05  \n",
              "347  38.799803 -77.047125  6.713867e+05  \n",
              "348  38.835587 -77.105740  3.937866e+05  \n",
              "349  38.972130 -77.019134  8.793669e+05  \n",
              "350  38.901578 -76.950422  6.952617e+05  \n",
              "\n",
              "[335 rows x 16 columns]"
            ],
            "text/html": [
              "\n",
              "  <div id=\"df-783512e1-b4d3-40b0-a30a-820980096980\" class=\"colab-df-container\">\n",
              "    <div>\n",
              "<style scoped>\n",
              "    .dataframe tbody tr th:only-of-type {\n",
              "        vertical-align: middle;\n",
              "    }\n",
              "\n",
              "    .dataframe tbody tr th {\n",
              "        vertical-align: top;\n",
              "    }\n",
              "\n",
              "    .dataframe thead th {\n",
              "        text-align: right;\n",
              "    }\n",
              "</style>\n",
              "<table border=\"1\" class=\"dataframe\">\n",
              "  <thead>\n",
              "    <tr style=\"text-align: right;\">\n",
              "      <th></th>\n",
              "      <th>PROPERTY TYPE</th>\n",
              "      <th>ADDRESS</th>\n",
              "      <th>CITY</th>\n",
              "      <th>STATE OR PROVINCE</th>\n",
              "      <th>ZIP OR POSTAL CODE</th>\n",
              "      <th>PRICE</th>\n",
              "      <th>BEDS</th>\n",
              "      <th>BATHS</th>\n",
              "      <th>LOCATION</th>\n",
              "      <th>SQUARE FEET</th>\n",
              "      <th>LOT SIZE</th>\n",
              "      <th>YEAR BUILT</th>\n",
              "      <th>HOA/MONTH</th>\n",
              "      <th>LATITUDE</th>\n",
              "      <th>LONGITUDE</th>\n",
              "      <th>pred_price</th>\n",
              "    </tr>\n",
              "  </thead>\n",
              "  <tbody>\n",
              "    <tr>\n",
              "      <th>1</th>\n",
              "      <td>Townhouse</td>\n",
              "      <td>649 Morton St NW</td>\n",
              "      <td>Washington</td>\n",
              "      <td>DC</td>\n",
              "      <td>20010.0</td>\n",
              "      <td>625000.0</td>\n",
              "      <td>2.0</td>\n",
              "      <td>1.5</td>\n",
              "      <td>Columbia Heights</td>\n",
              "      <td>1088.0</td>\n",
              "      <td>1388.0</td>\n",
              "      <td>1928.0</td>\n",
              "      <td>0.0</td>\n",
              "      <td>38.932268</td>\n",
              "      <td>-77.022599</td>\n",
              "      <td>6.393133e+05</td>\n",
              "    </tr>\n",
              "    <tr>\n",
              "      <th>2</th>\n",
              "      <td>Single Family Residential</td>\n",
              "      <td>5886 14th St N</td>\n",
              "      <td>Arlington</td>\n",
              "      <td>VA</td>\n",
              "      <td>22205.0</td>\n",
              "      <td>1299000.0</td>\n",
              "      <td>5.0</td>\n",
              "      <td>3.5</td>\n",
              "      <td>WESTOVER</td>\n",
              "      <td>2313.0</td>\n",
              "      <td>7395.0</td>\n",
              "      <td>1939.0</td>\n",
              "      <td>0.0</td>\n",
              "      <td>38.882172</td>\n",
              "      <td>-77.143247</td>\n",
              "      <td>1.355891e+06</td>\n",
              "    </tr>\n",
              "    <tr>\n",
              "      <th>3</th>\n",
              "      <td>Townhouse</td>\n",
              "      <td>1637 Irving St NW</td>\n",
              "      <td>Washington</td>\n",
              "      <td>DC</td>\n",
              "      <td>20010.0</td>\n",
              "      <td>1245000.0</td>\n",
              "      <td>4.0</td>\n",
              "      <td>2.0</td>\n",
              "      <td>Mount Pleasant</td>\n",
              "      <td>2486.0</td>\n",
              "      <td>2348.0</td>\n",
              "      <td>1917.0</td>\n",
              "      <td>0.0</td>\n",
              "      <td>38.928982</td>\n",
              "      <td>-77.038523</td>\n",
              "      <td>1.058641e+06</td>\n",
              "    </tr>\n",
              "    <tr>\n",
              "      <th>4</th>\n",
              "      <td>Condo/Co-op</td>\n",
              "      <td>520 John Carlyle St #219</td>\n",
              "      <td>Alexandria</td>\n",
              "      <td>VA</td>\n",
              "      <td>22314.0</td>\n",
              "      <td>445000.0</td>\n",
              "      <td>1.0</td>\n",
              "      <td>1.0</td>\n",
              "      <td>CARLYLE SQUARE</td>\n",
              "      <td>760.0</td>\n",
              "      <td>NaN</td>\n",
              "      <td>2007.0</td>\n",
              "      <td>590.0</td>\n",
              "      <td>38.801935</td>\n",
              "      <td>-77.061552</td>\n",
              "      <td>4.323214e+05</td>\n",
              "    </tr>\n",
              "    <tr>\n",
              "      <th>5</th>\n",
              "      <td>Single Family Residential</td>\n",
              "      <td>5628 Gary Ave</td>\n",
              "      <td>Alexandria</td>\n",
              "      <td>VA</td>\n",
              "      <td>22311.0</td>\n",
              "      <td>799000.0</td>\n",
              "      <td>4.0</td>\n",
              "      <td>1.5</td>\n",
              "      <td>SHIRLEY FOREST</td>\n",
              "      <td>1862.0</td>\n",
              "      <td>10475.0</td>\n",
              "      <td>1959.0</td>\n",
              "      <td>0.0</td>\n",
              "      <td>38.835506</td>\n",
              "      <td>-77.126423</td>\n",
              "      <td>7.273896e+05</td>\n",
              "    </tr>\n",
              "    <tr>\n",
              "      <th>...</th>\n",
              "      <td>...</td>\n",
              "      <td>...</td>\n",
              "      <td>...</td>\n",
              "      <td>...</td>\n",
              "      <td>...</td>\n",
              "      <td>...</td>\n",
              "      <td>...</td>\n",
              "      <td>...</td>\n",
              "      <td>...</td>\n",
              "      <td>...</td>\n",
              "      <td>...</td>\n",
              "      <td>...</td>\n",
              "      <td>...</td>\n",
              "      <td>...</td>\n",
              "      <td>...</td>\n",
              "      <td>...</td>\n",
              "    </tr>\n",
              "    <tr>\n",
              "      <th>346</th>\n",
              "      <td>Townhouse</td>\n",
              "      <td>2817-A S Woodrow St #1</td>\n",
              "      <td>Arlington</td>\n",
              "      <td>VA</td>\n",
              "      <td>22206.0</td>\n",
              "      <td>675000.0</td>\n",
              "      <td>3.0</td>\n",
              "      <td>2.0</td>\n",
              "      <td>COURTBRDGE I&amp;II</td>\n",
              "      <td>2066.0</td>\n",
              "      <td>NaN</td>\n",
              "      <td>1982.0</td>\n",
              "      <td>581.0</td>\n",
              "      <td>38.840766</td>\n",
              "      <td>-77.097163</td>\n",
              "      <td>6.128288e+05</td>\n",
              "    </tr>\n",
              "    <tr>\n",
              "      <th>347</th>\n",
              "      <td>Townhouse</td>\n",
              "      <td>545 S Saint Asaph St</td>\n",
              "      <td>Alexandria</td>\n",
              "      <td>VA</td>\n",
              "      <td>22314.0</td>\n",
              "      <td>985000.0</td>\n",
              "      <td>3.0</td>\n",
              "      <td>2.5</td>\n",
              "      <td>TANNERY YARD</td>\n",
              "      <td>1260.0</td>\n",
              "      <td>748.0</td>\n",
              "      <td>1976.0</td>\n",
              "      <td>100.0</td>\n",
              "      <td>38.799803</td>\n",
              "      <td>-77.047125</td>\n",
              "      <td>6.713867e+05</td>\n",
              "    </tr>\n",
              "    <tr>\n",
              "      <th>348</th>\n",
              "      <td>Condo/Co-op</td>\n",
              "      <td>4550 Strutfield Ln #2223</td>\n",
              "      <td>Alexandria</td>\n",
              "      <td>VA</td>\n",
              "      <td>22311.0</td>\n",
              "      <td>319000.0</td>\n",
              "      <td>1.0</td>\n",
              "      <td>1.0</td>\n",
              "      <td>PALAZZO AT PARK CENTER</td>\n",
              "      <td>818.0</td>\n",
              "      <td>NaN</td>\n",
              "      <td>2000.0</td>\n",
              "      <td>479.0</td>\n",
              "      <td>38.835587</td>\n",
              "      <td>-77.105740</td>\n",
              "      <td>3.937866e+05</td>\n",
              "    </tr>\n",
              "    <tr>\n",
              "      <th>349</th>\n",
              "      <td>Single Family Residential</td>\n",
              "      <td>410 Aspen St NW</td>\n",
              "      <td>Washington</td>\n",
              "      <td>DC</td>\n",
              "      <td>20012.0</td>\n",
              "      <td>1050000.0</td>\n",
              "      <td>5.0</td>\n",
              "      <td>3.0</td>\n",
              "      <td>Brightwood</td>\n",
              "      <td>2224.0</td>\n",
              "      <td>8250.0</td>\n",
              "      <td>1913.0</td>\n",
              "      <td>0.0</td>\n",
              "      <td>38.972130</td>\n",
              "      <td>-77.019134</td>\n",
              "      <td>8.793669e+05</td>\n",
              "    </tr>\n",
              "    <tr>\n",
              "      <th>350</th>\n",
              "      <td>Townhouse</td>\n",
              "      <td>714 Barnes St NE</td>\n",
              "      <td>Washington</td>\n",
              "      <td>DC</td>\n",
              "      <td>20019.0</td>\n",
              "      <td>525000.0</td>\n",
              "      <td>3.0</td>\n",
              "      <td>3.5</td>\n",
              "      <td>Lily Ponds</td>\n",
              "      <td>1924.0</td>\n",
              "      <td>1299.0</td>\n",
              "      <td>2014.0</td>\n",
              "      <td>80.0</td>\n",
              "      <td>38.901578</td>\n",
              "      <td>-76.950422</td>\n",
              "      <td>6.952617e+05</td>\n",
              "    </tr>\n",
              "  </tbody>\n",
              "</table>\n",
              "<p>335 rows × 16 columns</p>\n",
              "</div>\n",
              "    <div class=\"colab-df-buttons\">\n",
              "\n",
              "  <div class=\"colab-df-container\">\n",
              "    <button class=\"colab-df-convert\" onclick=\"convertToInteractive('df-783512e1-b4d3-40b0-a30a-820980096980')\"\n",
              "            title=\"Convert this dataframe to an interactive table.\"\n",
              "            style=\"display:none;\">\n",
              "\n",
              "  <svg xmlns=\"http://www.w3.org/2000/svg\" height=\"24px\" viewBox=\"0 -960 960 960\">\n",
              "    <path d=\"M120-120v-720h720v720H120Zm60-500h600v-160H180v160Zm220 220h160v-160H400v160Zm0 220h160v-160H400v160ZM180-400h160v-160H180v160Zm440 0h160v-160H620v160ZM180-180h160v-160H180v160Zm440 0h160v-160H620v160Z\"/>\n",
              "  </svg>\n",
              "    </button>\n",
              "\n",
              "  <style>\n",
              "    .colab-df-container {\n",
              "      display:flex;\n",
              "      gap: 12px;\n",
              "    }\n",
              "\n",
              "    .colab-df-convert {\n",
              "      background-color: #E8F0FE;\n",
              "      border: none;\n",
              "      border-radius: 50%;\n",
              "      cursor: pointer;\n",
              "      display: none;\n",
              "      fill: #1967D2;\n",
              "      height: 32px;\n",
              "      padding: 0 0 0 0;\n",
              "      width: 32px;\n",
              "    }\n",
              "\n",
              "    .colab-df-convert:hover {\n",
              "      background-color: #E2EBFA;\n",
              "      box-shadow: 0px 1px 2px rgba(60, 64, 67, 0.3), 0px 1px 3px 1px rgba(60, 64, 67, 0.15);\n",
              "      fill: #174EA6;\n",
              "    }\n",
              "\n",
              "    .colab-df-buttons div {\n",
              "      margin-bottom: 4px;\n",
              "    }\n",
              "\n",
              "    [theme=dark] .colab-df-convert {\n",
              "      background-color: #3B4455;\n",
              "      fill: #D2E3FC;\n",
              "    }\n",
              "\n",
              "    [theme=dark] .colab-df-convert:hover {\n",
              "      background-color: #434B5C;\n",
              "      box-shadow: 0px 1px 3px 1px rgba(0, 0, 0, 0.15);\n",
              "      filter: drop-shadow(0px 1px 2px rgba(0, 0, 0, 0.3));\n",
              "      fill: #FFFFFF;\n",
              "    }\n",
              "  </style>\n",
              "\n",
              "    <script>\n",
              "      const buttonEl =\n",
              "        document.querySelector('#df-783512e1-b4d3-40b0-a30a-820980096980 button.colab-df-convert');\n",
              "      buttonEl.style.display =\n",
              "        google.colab.kernel.accessAllowed ? 'block' : 'none';\n",
              "\n",
              "      async function convertToInteractive(key) {\n",
              "        const element = document.querySelector('#df-783512e1-b4d3-40b0-a30a-820980096980');\n",
              "        const dataTable =\n",
              "          await google.colab.kernel.invokeFunction('convertToInteractive',\n",
              "                                                    [key], {});\n",
              "        if (!dataTable) return;\n",
              "\n",
              "        const docLinkHtml = 'Like what you see? Visit the ' +\n",
              "          '<a target=\"_blank\" href=https://colab.research.google.com/notebooks/data_table.ipynb>data table notebook</a>'\n",
              "          + ' to learn more about interactive tables.';\n",
              "        element.innerHTML = '';\n",
              "        dataTable['output_type'] = 'display_data';\n",
              "        await google.colab.output.renderOutput(dataTable, element);\n",
              "        const docLink = document.createElement('div');\n",
              "        docLink.innerHTML = docLinkHtml;\n",
              "        element.appendChild(docLink);\n",
              "      }\n",
              "    </script>\n",
              "  </div>\n",
              "\n",
              "\n",
              "<div id=\"df-c6591e79-42d4-4bd6-9f3f-5e0c4e05142f\">\n",
              "  <button class=\"colab-df-quickchart\" onclick=\"quickchart('df-c6591e79-42d4-4bd6-9f3f-5e0c4e05142f')\"\n",
              "            title=\"Suggest charts\"\n",
              "            style=\"display:none;\">\n",
              "\n",
              "<svg xmlns=\"http://www.w3.org/2000/svg\" height=\"24px\"viewBox=\"0 0 24 24\"\n",
              "     width=\"24px\">\n",
              "    <g>\n",
              "        <path d=\"M19 3H5c-1.1 0-2 .9-2 2v14c0 1.1.9 2 2 2h14c1.1 0 2-.9 2-2V5c0-1.1-.9-2-2-2zM9 17H7v-7h2v7zm4 0h-2V7h2v10zm4 0h-2v-4h2v4z\"/>\n",
              "    </g>\n",
              "</svg>\n",
              "  </button>\n",
              "\n",
              "<style>\n",
              "  .colab-df-quickchart {\n",
              "      --bg-color: #E8F0FE;\n",
              "      --fill-color: #1967D2;\n",
              "      --hover-bg-color: #E2EBFA;\n",
              "      --hover-fill-color: #174EA6;\n",
              "      --disabled-fill-color: #AAA;\n",
              "      --disabled-bg-color: #DDD;\n",
              "  }\n",
              "\n",
              "  [theme=dark] .colab-df-quickchart {\n",
              "      --bg-color: #3B4455;\n",
              "      --fill-color: #D2E3FC;\n",
              "      --hover-bg-color: #434B5C;\n",
              "      --hover-fill-color: #FFFFFF;\n",
              "      --disabled-bg-color: #3B4455;\n",
              "      --disabled-fill-color: #666;\n",
              "  }\n",
              "\n",
              "  .colab-df-quickchart {\n",
              "    background-color: var(--bg-color);\n",
              "    border: none;\n",
              "    border-radius: 50%;\n",
              "    cursor: pointer;\n",
              "    display: none;\n",
              "    fill: var(--fill-color);\n",
              "    height: 32px;\n",
              "    padding: 0;\n",
              "    width: 32px;\n",
              "  }\n",
              "\n",
              "  .colab-df-quickchart:hover {\n",
              "    background-color: var(--hover-bg-color);\n",
              "    box-shadow: 0 1px 2px rgba(60, 64, 67, 0.3), 0 1px 3px 1px rgba(60, 64, 67, 0.15);\n",
              "    fill: var(--button-hover-fill-color);\n",
              "  }\n",
              "\n",
              "  .colab-df-quickchart-complete:disabled,\n",
              "  .colab-df-quickchart-complete:disabled:hover {\n",
              "    background-color: var(--disabled-bg-color);\n",
              "    fill: var(--disabled-fill-color);\n",
              "    box-shadow: none;\n",
              "  }\n",
              "\n",
              "  .colab-df-spinner {\n",
              "    border: 2px solid var(--fill-color);\n",
              "    border-color: transparent;\n",
              "    border-bottom-color: var(--fill-color);\n",
              "    animation:\n",
              "      spin 1s steps(1) infinite;\n",
              "  }\n",
              "\n",
              "  @keyframes spin {\n",
              "    0% {\n",
              "      border-color: transparent;\n",
              "      border-bottom-color: var(--fill-color);\n",
              "      border-left-color: var(--fill-color);\n",
              "    }\n",
              "    20% {\n",
              "      border-color: transparent;\n",
              "      border-left-color: var(--fill-color);\n",
              "      border-top-color: var(--fill-color);\n",
              "    }\n",
              "    30% {\n",
              "      border-color: transparent;\n",
              "      border-left-color: var(--fill-color);\n",
              "      border-top-color: var(--fill-color);\n",
              "      border-right-color: var(--fill-color);\n",
              "    }\n",
              "    40% {\n",
              "      border-color: transparent;\n",
              "      border-right-color: var(--fill-color);\n",
              "      border-top-color: var(--fill-color);\n",
              "    }\n",
              "    60% {\n",
              "      border-color: transparent;\n",
              "      border-right-color: var(--fill-color);\n",
              "    }\n",
              "    80% {\n",
              "      border-color: transparent;\n",
              "      border-right-color: var(--fill-color);\n",
              "      border-bottom-color: var(--fill-color);\n",
              "    }\n",
              "    90% {\n",
              "      border-color: transparent;\n",
              "      border-bottom-color: var(--fill-color);\n",
              "    }\n",
              "  }\n",
              "</style>\n",
              "\n",
              "  <script>\n",
              "    async function quickchart(key) {\n",
              "      const quickchartButtonEl =\n",
              "        document.querySelector('#' + key + ' button');\n",
              "      quickchartButtonEl.disabled = true;  // To prevent multiple clicks.\n",
              "      quickchartButtonEl.classList.add('colab-df-spinner');\n",
              "      try {\n",
              "        const charts = await google.colab.kernel.invokeFunction(\n",
              "            'suggestCharts', [key], {});\n",
              "      } catch (error) {\n",
              "        console.error('Error during call to suggestCharts:', error);\n",
              "      }\n",
              "      quickchartButtonEl.classList.remove('colab-df-spinner');\n",
              "      quickchartButtonEl.classList.add('colab-df-quickchart-complete');\n",
              "    }\n",
              "    (() => {\n",
              "      let quickchartButtonEl =\n",
              "        document.querySelector('#df-c6591e79-42d4-4bd6-9f3f-5e0c4e05142f button');\n",
              "      quickchartButtonEl.style.display =\n",
              "        google.colab.kernel.accessAllowed ? 'block' : 'none';\n",
              "    })();\n",
              "  </script>\n",
              "</div>\n",
              "\n",
              "  <div id=\"id_a4a2e520-96ad-452d-8d98-9430c85f7e43\">\n",
              "    <style>\n",
              "      .colab-df-generate {\n",
              "        background-color: #E8F0FE;\n",
              "        border: none;\n",
              "        border-radius: 50%;\n",
              "        cursor: pointer;\n",
              "        display: none;\n",
              "        fill: #1967D2;\n",
              "        height: 32px;\n",
              "        padding: 0 0 0 0;\n",
              "        width: 32px;\n",
              "      }\n",
              "\n",
              "      .colab-df-generate:hover {\n",
              "        background-color: #E2EBFA;\n",
              "        box-shadow: 0px 1px 2px rgba(60, 64, 67, 0.3), 0px 1px 3px 1px rgba(60, 64, 67, 0.15);\n",
              "        fill: #174EA6;\n",
              "      }\n",
              "\n",
              "      [theme=dark] .colab-df-generate {\n",
              "        background-color: #3B4455;\n",
              "        fill: #D2E3FC;\n",
              "      }\n",
              "\n",
              "      [theme=dark] .colab-df-generate:hover {\n",
              "        background-color: #434B5C;\n",
              "        box-shadow: 0px 1px 3px 1px rgba(0, 0, 0, 0.15);\n",
              "        filter: drop-shadow(0px 1px 2px rgba(0, 0, 0, 0.3));\n",
              "        fill: #FFFFFF;\n",
              "      }\n",
              "    </style>\n",
              "    <button class=\"colab-df-generate\" onclick=\"generateWithVariable('df')\"\n",
              "            title=\"Generate code using this dataframe.\"\n",
              "            style=\"display:none;\">\n",
              "\n",
              "  <svg xmlns=\"http://www.w3.org/2000/svg\" height=\"24px\"viewBox=\"0 0 24 24\"\n",
              "       width=\"24px\">\n",
              "    <path d=\"M7,19H8.4L18.45,9,17,7.55,7,17.6ZM5,21V16.75L18.45,3.32a2,2,0,0,1,2.83,0l1.4,1.43a1.91,1.91,0,0,1,.58,1.4,1.91,1.91,0,0,1-.58,1.4L9.25,21ZM18.45,9,17,7.55Zm-12,3A5.31,5.31,0,0,0,4.9,8.1,5.31,5.31,0,0,0,1,6.5,5.31,5.31,0,0,0,4.9,4.9,5.31,5.31,0,0,0,6.5,1,5.31,5.31,0,0,0,8.1,4.9,5.31,5.31,0,0,0,12,6.5,5.46,5.46,0,0,0,6.5,12Z\"/>\n",
              "  </svg>\n",
              "    </button>\n",
              "    <script>\n",
              "      (() => {\n",
              "      const buttonEl =\n",
              "        document.querySelector('#id_a4a2e520-96ad-452d-8d98-9430c85f7e43 button.colab-df-generate');\n",
              "      buttonEl.style.display =\n",
              "        google.colab.kernel.accessAllowed ? 'block' : 'none';\n",
              "\n",
              "      buttonEl.onclick = () => {\n",
              "        google.colab.notebook.generateWithVariable('df');\n",
              "      }\n",
              "      })();\n",
              "    </script>\n",
              "  </div>\n",
              "\n",
              "    </div>\n",
              "  </div>\n"
            ],
            "application/vnd.google.colaboratory.intrinsic+json": {
              "type": "dataframe",
              "variable_name": "df",
              "summary": "{\n  \"name\": \"df\",\n  \"rows\": 335,\n  \"fields\": [\n    {\n      \"column\": \"PROPERTY TYPE\",\n      \"properties\": {\n        \"dtype\": \"category\",\n        \"num_unique_values\": 3,\n        \"samples\": [\n          \"Townhouse\",\n          \"Single Family Residential\",\n          \"Condo/Co-op\"\n        ],\n        \"semantic_type\": \"\",\n        \"description\": \"\"\n      }\n    },\n    {\n      \"column\": \"ADDRESS\",\n      \"properties\": {\n        \"dtype\": \"string\",\n        \"num_unique_values\": 334,\n        \"samples\": [\n          \"2024 16th St NW Unit B\",\n          \"2131 10th St NW #1\",\n          \"525 N Fayette St #213\"\n        ],\n        \"semantic_type\": \"\",\n        \"description\": \"\"\n      }\n    },\n    {\n      \"column\": \"CITY\",\n      \"properties\": {\n        \"dtype\": \"category\",\n        \"num_unique_values\": 3,\n        \"samples\": [\n          \"Washington\",\n          \"Arlington\",\n          \"Alexandria\"\n        ],\n        \"semantic_type\": \"\",\n        \"description\": \"\"\n      }\n    },\n    {\n      \"column\": \"STATE OR PROVINCE\",\n      \"properties\": {\n        \"dtype\": \"category\",\n        \"num_unique_values\": 2,\n        \"samples\": [\n          \"VA\",\n          \"DC\"\n        ],\n        \"semantic_type\": \"\",\n        \"description\": \"\"\n      }\n    },\n    {\n      \"column\": \"ZIP OR POSTAL CODE\",\n      \"properties\": {\n        \"dtype\": \"number\",\n        \"std\": 1049.2255612415652,\n        \"min\": 20001.0,\n        \"max\": 22314.0,\n        \"num_unique_values\": 37,\n        \"samples\": [\n          22201.0,\n          20005.0\n        ],\n        \"semantic_type\": \"\",\n        \"description\": \"\"\n      }\n    },\n    {\n      \"column\": \"PRICE\",\n      \"properties\": {\n        \"dtype\": \"number\",\n        \"std\": 686906.1573679444,\n        \"min\": 14000.0,\n        \"max\": 6500000.0,\n        \"num_unique_values\": 223,\n        \"samples\": [\n          259900.0,\n          649000.0\n        ],\n        \"semantic_type\": \"\",\n        \"description\": \"\"\n      }\n    },\n    {\n      \"column\": \"BEDS\",\n      \"properties\": {\n        \"dtype\": \"number\",\n        \"std\": 1.379633014732565,\n        \"min\": 0.0,\n        \"max\": 8.0,\n        \"num_unique_values\": 9,\n        \"samples\": [\n          8.0,\n          5.0\n        ],\n        \"semantic_type\": \"\",\n        \"description\": \"\"\n      }\n    },\n    {\n      \"column\": \"BATHS\",\n      \"properties\": {\n        \"dtype\": \"number\",\n        \"std\": 1.1621604748863759,\n        \"min\": 1.0,\n        \"max\": 6.5,\n        \"num_unique_values\": 12,\n        \"samples\": [\n          5.0,\n          6.0\n        ],\n        \"semantic_type\": \"\",\n        \"description\": \"\"\n      }\n    },\n    {\n      \"column\": \"LOCATION\",\n      \"properties\": {\n        \"dtype\": \"category\",\n        \"num_unique_values\": 147,\n        \"samples\": [\n          \"FOGGY BOTTOM\",\n          \"MANOR PARK\"\n        ],\n        \"semantic_type\": \"\",\n        \"description\": \"\"\n      }\n    },\n    {\n      \"column\": \"SQUARE FEET\",\n      \"properties\": {\n        \"dtype\": \"number\",\n        \"std\": 1105.3169784203028,\n        \"min\": 351.0,\n        \"max\": 8733.0,\n        \"num_unique_values\": 291,\n        \"samples\": [\n          716.0,\n          2326.0\n        ],\n        \"semantic_type\": \"\",\n        \"description\": \"\"\n      }\n    },\n    {\n      \"column\": \"LOT SIZE\",\n      \"properties\": {\n        \"dtype\": \"number\",\n        \"std\": 5903.974193413169,\n        \"min\": 693.0,\n        \"max\": 49005.0,\n        \"num_unique_values\": 135,\n        \"samples\": [\n          7000.0,\n          4688.0\n        ],\n        \"semantic_type\": \"\",\n        \"description\": \"\"\n      }\n    },\n    {\n      \"column\": \"YEAR BUILT\",\n      \"properties\": {\n        \"dtype\": \"number\",\n        \"std\": 38.98818480774023,\n        \"min\": 1875.0,\n        \"max\": 2024.0,\n        \"num_unique_values\": 110,\n        \"samples\": [\n          1981.0,\n          1975.0\n        ],\n        \"semantic_type\": \"\",\n        \"description\": \"\"\n      }\n    },\n    {\n      \"column\": \"HOA/MONTH\",\n      \"properties\": {\n        \"dtype\": \"number\",\n        \"std\": 435.0474756283334,\n        \"min\": 0.0,\n        \"max\": 3004.0,\n        \"num_unique_values\": 175,\n        \"samples\": [\n          235.0,\n          750.0\n        ],\n        \"semantic_type\": \"\",\n        \"description\": \"\"\n      }\n    },\n    {\n      \"column\": \"LATITUDE\",\n      \"properties\": {\n        \"dtype\": \"number\",\n        \"std\": 0.04629604288655487,\n        \"min\": 38.7851355,\n        \"max\": 38.98283,\n        \"num_unique_values\": 308,\n        \"samples\": [\n          38.9119891,\n          38.9219826\n        ],\n        \"semantic_type\": \"\",\n        \"description\": \"\"\n      }\n    },\n    {\n      \"column\": \"LONGITUDE\",\n      \"properties\": {\n        \"dtype\": \"number\",\n        \"std\": 0.05246535274864874,\n        \"min\": -77.1735671,\n        \"max\": -76.9184633,\n        \"num_unique_values\": 308,\n        \"samples\": [\n          -77.0154475,\n          -77.0371652\n        ],\n        \"semantic_type\": \"\",\n        \"description\": \"\"\n      }\n    },\n    {\n      \"column\": \"pred_price\",\n      \"properties\": {\n        \"dtype\": \"float32\",\n        \"num_unique_values\": 329,\n        \"samples\": [\n          283947.5625,\n          228840.640625\n        ],\n        \"semantic_type\": \"\",\n        \"description\": \"\"\n      }\n    }\n  ]\n}"
            }
          },
          "metadata": {},
          "execution_count": 174
        }
      ]
    },
    {
      "cell_type": "code",
      "source": [
        "y1 = df['PRICE']\n",
        "y2 = df['pred_price']\n",
        "r2 = r2_score(y1, y2)\n",
        "print(f\"R-squared (R2): {r2}\")\n",
        "\n",
        "mse = mean_squared_error(y1, y2)\n",
        "print(f\"Root Mean Squared Error (RMSE): {mse**0.5}\")\n",
        "\n",
        "feature_importances = pd.DataFrame({'Feature': X_train.columns, 'Importance': xgb_model.feature_importances_}) #might need to replace\n",
        "feature_importances = feature_importances.sort_values(by='Importance', ascending=False)\n",
        "print(\"Feature Importances:\")\n",
        "print(feature_importances)"
      ],
      "metadata": {
        "colab": {
          "base_uri": "https://localhost:8080/"
        },
        "id": "MbtNYFkW31IM",
        "outputId": "c15113c0-b5b1-46a6-e9b4-7d56cbfdcd93"
      },
      "execution_count": 176,
      "outputs": [
        {
          "output_type": "stream",
          "name": "stdout",
          "text": [
            "R-squared (R2): 0.8297541607262138\n",
            "Root Mean Squared Error (RMSE): 283000.0372204725\n",
            "Feature Importances:\n",
            "                                    Feature  Importance\n",
            "2                               SQUARE FEET    0.359509\n",
            "1                                     BATHS    0.187807\n",
            "18           all_greenspace_area_under2.5km    0.071262\n",
            "10                   closest_college_direct    0.048910\n",
            "19               crosses_highway_under2.5km    0.048626\n",
            "3                                  LOT SIZE    0.045440\n",
            "16                  PROPERTY TYPE_Townhouse    0.031379\n",
            "17                  TARGET_ENCODED_PRICE_50    0.029003\n",
            "14                PROPERTY TYPE_Condo/Co-op    0.028631\n",
            "13                   closest_leisure_direct    0.020276\n",
            "4                                YEAR BUILT    0.019122\n",
            "11                      closest_shop_direct    0.016781\n",
            "0                                      BEDS    0.016723\n",
            "5                                 HOA/MONTH    0.014977\n",
            "9                     closest_school_direct    0.014257\n",
            "12                   closest_tourism_direct    0.011540\n",
            "15  PROPERTY TYPE_Single Family Residential    0.009365\n",
            "6                 closest_greenspace_direct    0.008991\n",
            "8                      closest_metro_direct    0.008767\n",
            "7                   closest_greenspace_area    0.008634\n"
          ]
        },
        {
          "output_type": "stream",
          "name": "stderr",
          "text": [
            "/usr/local/lib/python3.10/dist-packages/ipykernel/ipkernel.py:283: DeprecationWarning: `should_run_async` will not call `transform_cell` automatically in the future. Please pass the result to `transformed_cell` argument and any exception that happen during thetransform in `preprocessing_exc_tuple` in IPython 7.17 and above.\n",
            "  and should_run_async(code)\n"
          ]
        }
      ]
    }
  ]
}